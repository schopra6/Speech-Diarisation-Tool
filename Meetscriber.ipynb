{
  "nbformat": 4,
  "nbformat_minor": 0,
  "metadata": {
    "colab": {
      "name": "Meetscriber.ipynb",
      "provenance": [],
      "collapsed_sections": []
    },
    "kernelspec": {
      "name": "python3",
      "display_name": "Python 3"
    },
    "language_info": {
      "name": "python"
    },
    "widgets": {
      "application/vnd.jupyter.widget-state+json": {
        "90af4d5e818e405db3bee4122dcfb5ce": {
          "model_module": "@jupyter-widgets/controls",
          "model_name": "HBoxModel",
          "model_module_version": "1.5.0",
          "state": {
            "_view_name": "HBoxView",
            "_dom_classes": [],
            "_model_name": "HBoxModel",
            "_view_module": "@jupyter-widgets/controls",
            "_model_module_version": "1.5.0",
            "_view_count": null,
            "_view_module_version": "1.5.0",
            "box_style": "",
            "layout": "IPY_MODEL_df3bb1c87ed54dcc84e3ecbd4b61e660",
            "_model_module": "@jupyter-widgets/controls",
            "children": [
              "IPY_MODEL_67989a99be88477c832d7dc342c312b7",
              "IPY_MODEL_18021ef2096f4f4586ec1a8358d1fab8",
              "IPY_MODEL_f487ff910b184f499459e0146fc3b356"
            ]
          }
        },
        "df3bb1c87ed54dcc84e3ecbd4b61e660": {
          "model_module": "@jupyter-widgets/base",
          "model_name": "LayoutModel",
          "model_module_version": "1.2.0",
          "state": {
            "_view_name": "LayoutView",
            "grid_template_rows": null,
            "right": null,
            "justify_content": null,
            "_view_module": "@jupyter-widgets/base",
            "overflow": null,
            "_model_module_version": "1.2.0",
            "_view_count": null,
            "flex_flow": null,
            "width": null,
            "min_width": null,
            "border": null,
            "align_items": null,
            "bottom": null,
            "_model_module": "@jupyter-widgets/base",
            "top": null,
            "grid_column": null,
            "overflow_y": null,
            "overflow_x": null,
            "grid_auto_flow": null,
            "grid_area": null,
            "grid_template_columns": null,
            "flex": null,
            "_model_name": "LayoutModel",
            "justify_items": null,
            "grid_row": null,
            "max_height": null,
            "align_content": null,
            "visibility": null,
            "align_self": null,
            "height": null,
            "min_height": null,
            "padding": null,
            "grid_auto_rows": null,
            "grid_gap": null,
            "max_width": null,
            "order": null,
            "_view_module_version": "1.2.0",
            "grid_template_areas": null,
            "object_position": null,
            "object_fit": null,
            "grid_auto_columns": null,
            "margin": null,
            "display": null,
            "left": null
          }
        },
        "67989a99be88477c832d7dc342c312b7": {
          "model_module": "@jupyter-widgets/controls",
          "model_name": "HTMLModel",
          "model_module_version": "1.5.0",
          "state": {
            "_view_name": "HTMLView",
            "style": "IPY_MODEL_bfe9ec40308343beb59fcf7456c9c7be",
            "_dom_classes": [],
            "description": "",
            "_model_name": "HTMLModel",
            "placeholder": "​",
            "_view_module": "@jupyter-widgets/controls",
            "_model_module_version": "1.5.0",
            "value": "100%",
            "_view_count": null,
            "_view_module_version": "1.5.0",
            "description_tooltip": null,
            "_model_module": "@jupyter-widgets/controls",
            "layout": "IPY_MODEL_a957c14b7d994f8eb3b0229008d1eaf0"
          }
        },
        "18021ef2096f4f4586ec1a8358d1fab8": {
          "model_module": "@jupyter-widgets/controls",
          "model_name": "FloatProgressModel",
          "model_module_version": "1.5.0",
          "state": {
            "_view_name": "ProgressView",
            "style": "IPY_MODEL_a1365f2c25c04411970321330317eb4f",
            "_dom_classes": [],
            "description": "",
            "_model_name": "FloatProgressModel",
            "bar_style": "success",
            "max": 901,
            "_view_module": "@jupyter-widgets/controls",
            "_model_module_version": "1.5.0",
            "value": 901,
            "_view_count": null,
            "_view_module_version": "1.5.0",
            "orientation": "horizontal",
            "min": 0,
            "description_tooltip": null,
            "_model_module": "@jupyter-widgets/controls",
            "layout": "IPY_MODEL_ea4a1315da0c473897f53885055d5e53"
          }
        },
        "f487ff910b184f499459e0146fc3b356": {
          "model_module": "@jupyter-widgets/controls",
          "model_name": "HTMLModel",
          "model_module_version": "1.5.0",
          "state": {
            "_view_name": "HTMLView",
            "style": "IPY_MODEL_4a7a091981b24757a3d74d8534647859",
            "_dom_classes": [],
            "description": "",
            "_model_name": "HTMLModel",
            "placeholder": "​",
            "_view_module": "@jupyter-widgets/controls",
            "_model_module_version": "1.5.0",
            "value": " 901/901 [00:00&lt;00:00, 18.9kB/s]",
            "_view_count": null,
            "_view_module_version": "1.5.0",
            "description_tooltip": null,
            "_model_module": "@jupyter-widgets/controls",
            "layout": "IPY_MODEL_001a58f33b0f4e00902450919293b416"
          }
        },
        "bfe9ec40308343beb59fcf7456c9c7be": {
          "model_module": "@jupyter-widgets/controls",
          "model_name": "DescriptionStyleModel",
          "model_module_version": "1.5.0",
          "state": {
            "_view_name": "StyleView",
            "_model_name": "DescriptionStyleModel",
            "description_width": "",
            "_view_module": "@jupyter-widgets/base",
            "_model_module_version": "1.5.0",
            "_view_count": null,
            "_view_module_version": "1.2.0",
            "_model_module": "@jupyter-widgets/controls"
          }
        },
        "a957c14b7d994f8eb3b0229008d1eaf0": {
          "model_module": "@jupyter-widgets/base",
          "model_name": "LayoutModel",
          "model_module_version": "1.2.0",
          "state": {
            "_view_name": "LayoutView",
            "grid_template_rows": null,
            "right": null,
            "justify_content": null,
            "_view_module": "@jupyter-widgets/base",
            "overflow": null,
            "_model_module_version": "1.2.0",
            "_view_count": null,
            "flex_flow": null,
            "width": null,
            "min_width": null,
            "border": null,
            "align_items": null,
            "bottom": null,
            "_model_module": "@jupyter-widgets/base",
            "top": null,
            "grid_column": null,
            "overflow_y": null,
            "overflow_x": null,
            "grid_auto_flow": null,
            "grid_area": null,
            "grid_template_columns": null,
            "flex": null,
            "_model_name": "LayoutModel",
            "justify_items": null,
            "grid_row": null,
            "max_height": null,
            "align_content": null,
            "visibility": null,
            "align_self": null,
            "height": null,
            "min_height": null,
            "padding": null,
            "grid_auto_rows": null,
            "grid_gap": null,
            "max_width": null,
            "order": null,
            "_view_module_version": "1.2.0",
            "grid_template_areas": null,
            "object_position": null,
            "object_fit": null,
            "grid_auto_columns": null,
            "margin": null,
            "display": null,
            "left": null
          }
        },
        "a1365f2c25c04411970321330317eb4f": {
          "model_module": "@jupyter-widgets/controls",
          "model_name": "ProgressStyleModel",
          "model_module_version": "1.5.0",
          "state": {
            "_view_name": "StyleView",
            "_model_name": "ProgressStyleModel",
            "description_width": "",
            "_view_module": "@jupyter-widgets/base",
            "_model_module_version": "1.5.0",
            "_view_count": null,
            "_view_module_version": "1.2.0",
            "bar_color": null,
            "_model_module": "@jupyter-widgets/controls"
          }
        },
        "ea4a1315da0c473897f53885055d5e53": {
          "model_module": "@jupyter-widgets/base",
          "model_name": "LayoutModel",
          "model_module_version": "1.2.0",
          "state": {
            "_view_name": "LayoutView",
            "grid_template_rows": null,
            "right": null,
            "justify_content": null,
            "_view_module": "@jupyter-widgets/base",
            "overflow": null,
            "_model_module_version": "1.2.0",
            "_view_count": null,
            "flex_flow": null,
            "width": null,
            "min_width": null,
            "border": null,
            "align_items": null,
            "bottom": null,
            "_model_module": "@jupyter-widgets/base",
            "top": null,
            "grid_column": null,
            "overflow_y": null,
            "overflow_x": null,
            "grid_auto_flow": null,
            "grid_area": null,
            "grid_template_columns": null,
            "flex": null,
            "_model_name": "LayoutModel",
            "justify_items": null,
            "grid_row": null,
            "max_height": null,
            "align_content": null,
            "visibility": null,
            "align_self": null,
            "height": null,
            "min_height": null,
            "padding": null,
            "grid_auto_rows": null,
            "grid_gap": null,
            "max_width": null,
            "order": null,
            "_view_module_version": "1.2.0",
            "grid_template_areas": null,
            "object_position": null,
            "object_fit": null,
            "grid_auto_columns": null,
            "margin": null,
            "display": null,
            "left": null
          }
        },
        "4a7a091981b24757a3d74d8534647859": {
          "model_module": "@jupyter-widgets/controls",
          "model_name": "DescriptionStyleModel",
          "model_module_version": "1.5.0",
          "state": {
            "_view_name": "StyleView",
            "_model_name": "DescriptionStyleModel",
            "description_width": "",
            "_view_module": "@jupyter-widgets/base",
            "_model_module_version": "1.5.0",
            "_view_count": null,
            "_view_module_version": "1.2.0",
            "_model_module": "@jupyter-widgets/controls"
          }
        },
        "001a58f33b0f4e00902450919293b416": {
          "model_module": "@jupyter-widgets/base",
          "model_name": "LayoutModel",
          "model_module_version": "1.2.0",
          "state": {
            "_view_name": "LayoutView",
            "grid_template_rows": null,
            "right": null,
            "justify_content": null,
            "_view_module": "@jupyter-widgets/base",
            "overflow": null,
            "_model_module_version": "1.2.0",
            "_view_count": null,
            "flex_flow": null,
            "width": null,
            "min_width": null,
            "border": null,
            "align_items": null,
            "bottom": null,
            "_model_module": "@jupyter-widgets/base",
            "top": null,
            "grid_column": null,
            "overflow_y": null,
            "overflow_x": null,
            "grid_auto_flow": null,
            "grid_area": null,
            "grid_template_columns": null,
            "flex": null,
            "_model_name": "LayoutModel",
            "justify_items": null,
            "grid_row": null,
            "max_height": null,
            "align_content": null,
            "visibility": null,
            "align_self": null,
            "height": null,
            "min_height": null,
            "padding": null,
            "grid_auto_rows": null,
            "grid_gap": null,
            "max_width": null,
            "order": null,
            "_view_module_version": "1.2.0",
            "grid_template_areas": null,
            "object_position": null,
            "object_fit": null,
            "grid_auto_columns": null,
            "margin": null,
            "display": null,
            "left": null
          }
        },
        "f27ce4129ae94be0992313650efaea0d": {
          "model_module": "@jupyter-widgets/controls",
          "model_name": "HBoxModel",
          "model_module_version": "1.5.0",
          "state": {
            "_view_name": "HBoxView",
            "_dom_classes": [],
            "_model_name": "HBoxModel",
            "_view_module": "@jupyter-widgets/controls",
            "_model_module_version": "1.5.0",
            "_view_count": null,
            "_view_module_version": "1.5.0",
            "box_style": "",
            "layout": "IPY_MODEL_09c9a1daea284ab8aa51909e5db69b4e",
            "_model_module": "@jupyter-widgets/controls",
            "children": [
              "IPY_MODEL_735ac47f18c24d7093b94208f3f7d383",
              "IPY_MODEL_964fb11c9fa8478f955dd31ae30229bd",
              "IPY_MODEL_136a994721074b889b0d129c20565e8a"
            ]
          }
        },
        "09c9a1daea284ab8aa51909e5db69b4e": {
          "model_module": "@jupyter-widgets/base",
          "model_name": "LayoutModel",
          "model_module_version": "1.2.0",
          "state": {
            "_view_name": "LayoutView",
            "grid_template_rows": null,
            "right": null,
            "justify_content": null,
            "_view_module": "@jupyter-widgets/base",
            "overflow": null,
            "_model_module_version": "1.2.0",
            "_view_count": null,
            "flex_flow": null,
            "width": null,
            "min_width": null,
            "border": null,
            "align_items": null,
            "bottom": null,
            "_model_module": "@jupyter-widgets/base",
            "top": null,
            "grid_column": null,
            "overflow_y": null,
            "overflow_x": null,
            "grid_auto_flow": null,
            "grid_area": null,
            "grid_template_columns": null,
            "flex": null,
            "_model_name": "LayoutModel",
            "justify_items": null,
            "grid_row": null,
            "max_height": null,
            "align_content": null,
            "visibility": null,
            "align_self": null,
            "height": null,
            "min_height": null,
            "padding": null,
            "grid_auto_rows": null,
            "grid_gap": null,
            "max_width": null,
            "order": null,
            "_view_module_version": "1.2.0",
            "grid_template_areas": null,
            "object_position": null,
            "object_fit": null,
            "grid_auto_columns": null,
            "margin": null,
            "display": null,
            "left": null
          }
        },
        "735ac47f18c24d7093b94208f3f7d383": {
          "model_module": "@jupyter-widgets/controls",
          "model_name": "HTMLModel",
          "model_module_version": "1.5.0",
          "state": {
            "_view_name": "HTMLView",
            "style": "IPY_MODEL_aaad2d1457b04b119c0e804ea0e77be5",
            "_dom_classes": [],
            "description": "",
            "_model_name": "HTMLModel",
            "placeholder": "​",
            "_view_module": "@jupyter-widgets/controls",
            "_model_module_version": "1.5.0",
            "value": "100%",
            "_view_count": null,
            "_view_module_version": "1.5.0",
            "description_tooltip": null,
            "_model_module": "@jupyter-widgets/controls",
            "layout": "IPY_MODEL_96cfbeb8bb0640b18e25ea58753307e5"
          }
        },
        "964fb11c9fa8478f955dd31ae30229bd": {
          "model_module": "@jupyter-widgets/controls",
          "model_name": "FloatProgressModel",
          "model_module_version": "1.5.0",
          "state": {
            "_view_name": "ProgressView",
            "style": "IPY_MODEL_df95c20850bb4bbf9bb64f556e930c6b",
            "_dom_classes": [],
            "description": "",
            "_model_name": "FloatProgressModel",
            "bar_style": "success",
            "max": 1529,
            "_view_module": "@jupyter-widgets/controls",
            "_model_module_version": "1.5.0",
            "value": 1529,
            "_view_count": null,
            "_view_module_version": "1.5.0",
            "orientation": "horizontal",
            "min": 0,
            "description_tooltip": null,
            "_model_module": "@jupyter-widgets/controls",
            "layout": "IPY_MODEL_207f5175a94b4ff8b7457d4cfe9d1fe9"
          }
        },
        "136a994721074b889b0d129c20565e8a": {
          "model_module": "@jupyter-widgets/controls",
          "model_name": "HTMLModel",
          "model_module_version": "1.5.0",
          "state": {
            "_view_name": "HTMLView",
            "style": "IPY_MODEL_4f4a7d34c0f647b6800683407f41b6f6",
            "_dom_classes": [],
            "description": "",
            "_model_name": "HTMLModel",
            "placeholder": "​",
            "_view_module": "@jupyter-widgets/controls",
            "_model_module_version": "1.5.0",
            "value": " 1.49k/1.49k [00:00&lt;00:00, 35.7kB/s]",
            "_view_count": null,
            "_view_module_version": "1.5.0",
            "description_tooltip": null,
            "_model_module": "@jupyter-widgets/controls",
            "layout": "IPY_MODEL_6aae3c90b842460e9bf5bf2d1f71ea5f"
          }
        },
        "aaad2d1457b04b119c0e804ea0e77be5": {
          "model_module": "@jupyter-widgets/controls",
          "model_name": "DescriptionStyleModel",
          "model_module_version": "1.5.0",
          "state": {
            "_view_name": "StyleView",
            "_model_name": "DescriptionStyleModel",
            "description_width": "",
            "_view_module": "@jupyter-widgets/base",
            "_model_module_version": "1.5.0",
            "_view_count": null,
            "_view_module_version": "1.2.0",
            "_model_module": "@jupyter-widgets/controls"
          }
        },
        "96cfbeb8bb0640b18e25ea58753307e5": {
          "model_module": "@jupyter-widgets/base",
          "model_name": "LayoutModel",
          "model_module_version": "1.2.0",
          "state": {
            "_view_name": "LayoutView",
            "grid_template_rows": null,
            "right": null,
            "justify_content": null,
            "_view_module": "@jupyter-widgets/base",
            "overflow": null,
            "_model_module_version": "1.2.0",
            "_view_count": null,
            "flex_flow": null,
            "width": null,
            "min_width": null,
            "border": null,
            "align_items": null,
            "bottom": null,
            "_model_module": "@jupyter-widgets/base",
            "top": null,
            "grid_column": null,
            "overflow_y": null,
            "overflow_x": null,
            "grid_auto_flow": null,
            "grid_area": null,
            "grid_template_columns": null,
            "flex": null,
            "_model_name": "LayoutModel",
            "justify_items": null,
            "grid_row": null,
            "max_height": null,
            "align_content": null,
            "visibility": null,
            "align_self": null,
            "height": null,
            "min_height": null,
            "padding": null,
            "grid_auto_rows": null,
            "grid_gap": null,
            "max_width": null,
            "order": null,
            "_view_module_version": "1.2.0",
            "grid_template_areas": null,
            "object_position": null,
            "object_fit": null,
            "grid_auto_columns": null,
            "margin": null,
            "display": null,
            "left": null
          }
        },
        "df95c20850bb4bbf9bb64f556e930c6b": {
          "model_module": "@jupyter-widgets/controls",
          "model_name": "ProgressStyleModel",
          "model_module_version": "1.5.0",
          "state": {
            "_view_name": "StyleView",
            "_model_name": "ProgressStyleModel",
            "description_width": "",
            "_view_module": "@jupyter-widgets/base",
            "_model_module_version": "1.5.0",
            "_view_count": null,
            "_view_module_version": "1.2.0",
            "bar_color": null,
            "_model_module": "@jupyter-widgets/controls"
          }
        },
        "207f5175a94b4ff8b7457d4cfe9d1fe9": {
          "model_module": "@jupyter-widgets/base",
          "model_name": "LayoutModel",
          "model_module_version": "1.2.0",
          "state": {
            "_view_name": "LayoutView",
            "grid_template_rows": null,
            "right": null,
            "justify_content": null,
            "_view_module": "@jupyter-widgets/base",
            "overflow": null,
            "_model_module_version": "1.2.0",
            "_view_count": null,
            "flex_flow": null,
            "width": null,
            "min_width": null,
            "border": null,
            "align_items": null,
            "bottom": null,
            "_model_module": "@jupyter-widgets/base",
            "top": null,
            "grid_column": null,
            "overflow_y": null,
            "overflow_x": null,
            "grid_auto_flow": null,
            "grid_area": null,
            "grid_template_columns": null,
            "flex": null,
            "_model_name": "LayoutModel",
            "justify_items": null,
            "grid_row": null,
            "max_height": null,
            "align_content": null,
            "visibility": null,
            "align_self": null,
            "height": null,
            "min_height": null,
            "padding": null,
            "grid_auto_rows": null,
            "grid_gap": null,
            "max_width": null,
            "order": null,
            "_view_module_version": "1.2.0",
            "grid_template_areas": null,
            "object_position": null,
            "object_fit": null,
            "grid_auto_columns": null,
            "margin": null,
            "display": null,
            "left": null
          }
        },
        "4f4a7d34c0f647b6800683407f41b6f6": {
          "model_module": "@jupyter-widgets/controls",
          "model_name": "DescriptionStyleModel",
          "model_module_version": "1.5.0",
          "state": {
            "_view_name": "StyleView",
            "_model_name": "DescriptionStyleModel",
            "description_width": "",
            "_view_module": "@jupyter-widgets/base",
            "_model_module_version": "1.5.0",
            "_view_count": null,
            "_view_module_version": "1.2.0",
            "_model_module": "@jupyter-widgets/controls"
          }
        },
        "6aae3c90b842460e9bf5bf2d1f71ea5f": {
          "model_module": "@jupyter-widgets/base",
          "model_name": "LayoutModel",
          "model_module_version": "1.2.0",
          "state": {
            "_view_name": "LayoutView",
            "grid_template_rows": null,
            "right": null,
            "justify_content": null,
            "_view_module": "@jupyter-widgets/base",
            "overflow": null,
            "_model_module_version": "1.2.0",
            "_view_count": null,
            "flex_flow": null,
            "width": null,
            "min_width": null,
            "border": null,
            "align_items": null,
            "bottom": null,
            "_model_module": "@jupyter-widgets/base",
            "top": null,
            "grid_column": null,
            "overflow_y": null,
            "overflow_x": null,
            "grid_auto_flow": null,
            "grid_area": null,
            "grid_template_columns": null,
            "flex": null,
            "_model_name": "LayoutModel",
            "justify_items": null,
            "grid_row": null,
            "max_height": null,
            "align_content": null,
            "visibility": null,
            "align_self": null,
            "height": null,
            "min_height": null,
            "padding": null,
            "grid_auto_rows": null,
            "grid_gap": null,
            "max_width": null,
            "order": null,
            "_view_module_version": "1.2.0",
            "grid_template_areas": null,
            "object_position": null,
            "object_fit": null,
            "grid_auto_columns": null,
            "margin": null,
            "display": null,
            "left": null
          }
        },
        "d6428d6cbc9941229e8f7d7eb63a736c": {
          "model_module": "@jupyter-widgets/controls",
          "model_name": "HBoxModel",
          "model_module_version": "1.5.0",
          "state": {
            "_view_name": "HBoxView",
            "_dom_classes": [],
            "_model_name": "HBoxModel",
            "_view_module": "@jupyter-widgets/controls",
            "_model_module_version": "1.5.0",
            "_view_count": null,
            "_view_module_version": "1.5.0",
            "box_style": "",
            "layout": "IPY_MODEL_98e1bdf938274c0fa22aee57a601412a",
            "_model_module": "@jupyter-widgets/controls",
            "children": [
              "IPY_MODEL_917a1392dae7432fb88b47618a6aad14",
              "IPY_MODEL_8f2df940553a4fe08b738af5bd81443d",
              "IPY_MODEL_3e692e26354a48dab4ef6c22d658f572"
            ]
          }
        },
        "98e1bdf938274c0fa22aee57a601412a": {
          "model_module": "@jupyter-widgets/base",
          "model_name": "LayoutModel",
          "model_module_version": "1.2.0",
          "state": {
            "_view_name": "LayoutView",
            "grid_template_rows": null,
            "right": null,
            "justify_content": null,
            "_view_module": "@jupyter-widgets/base",
            "overflow": null,
            "_model_module_version": "1.2.0",
            "_view_count": null,
            "flex_flow": null,
            "width": null,
            "min_width": null,
            "border": null,
            "align_items": null,
            "bottom": null,
            "_model_module": "@jupyter-widgets/base",
            "top": null,
            "grid_column": null,
            "overflow_y": null,
            "overflow_x": null,
            "grid_auto_flow": null,
            "grid_area": null,
            "grid_template_columns": null,
            "flex": null,
            "_model_name": "LayoutModel",
            "justify_items": null,
            "grid_row": null,
            "max_height": null,
            "align_content": null,
            "visibility": null,
            "align_self": null,
            "height": null,
            "min_height": null,
            "padding": null,
            "grid_auto_rows": null,
            "grid_gap": null,
            "max_width": null,
            "order": null,
            "_view_module_version": "1.2.0",
            "grid_template_areas": null,
            "object_position": null,
            "object_fit": null,
            "grid_auto_columns": null,
            "margin": null,
            "display": null,
            "left": null
          }
        },
        "917a1392dae7432fb88b47618a6aad14": {
          "model_module": "@jupyter-widgets/controls",
          "model_name": "HTMLModel",
          "model_module_version": "1.5.0",
          "state": {
            "_view_name": "HTMLView",
            "style": "IPY_MODEL_1d0ceef66e4249c59faf806d1f025213",
            "_dom_classes": [],
            "description": "",
            "_model_name": "HTMLModel",
            "placeholder": "​",
            "_view_module": "@jupyter-widgets/controls",
            "_model_module_version": "1.5.0",
            "value": "100%",
            "_view_count": null,
            "_view_module_version": "1.5.0",
            "description_tooltip": null,
            "_model_module": "@jupyter-widgets/controls",
            "layout": "IPY_MODEL_627a0a15628841a98301e2d0a3189f06"
          }
        },
        "8f2df940553a4fe08b738af5bd81443d": {
          "model_module": "@jupyter-widgets/controls",
          "model_name": "FloatProgressModel",
          "model_module_version": "1.5.0",
          "state": {
            "_view_name": "ProgressView",
            "style": "IPY_MODEL_52a496bbd6f04080a6a5cf35bd110f34",
            "_dom_classes": [],
            "description": "",
            "_model_name": "FloatProgressModel",
            "bar_style": "success",
            "max": 2531992,
            "_view_module": "@jupyter-widgets/controls",
            "_model_module_version": "1.5.0",
            "value": 2531992,
            "_view_count": null,
            "_view_module_version": "1.5.0",
            "orientation": "horizontal",
            "min": 0,
            "description_tooltip": null,
            "_model_module": "@jupyter-widgets/controls",
            "layout": "IPY_MODEL_a14a5a97f52f420899993d4b57e656fc"
          }
        },
        "3e692e26354a48dab4ef6c22d658f572": {
          "model_module": "@jupyter-widgets/controls",
          "model_name": "HTMLModel",
          "model_module_version": "1.5.0",
          "state": {
            "_view_name": "HTMLView",
            "style": "IPY_MODEL_137e8f0bcc554f32b5a54875fa95cad3",
            "_dom_classes": [],
            "description": "",
            "_model_name": "HTMLModel",
            "placeholder": "​",
            "_view_module": "@jupyter-widgets/controls",
            "_model_module_version": "1.5.0",
            "value": " 2.41M/2.41M [00:00&lt;00:00, 27.0MB/s]",
            "_view_count": null,
            "_view_module_version": "1.5.0",
            "description_tooltip": null,
            "_model_module": "@jupyter-widgets/controls",
            "layout": "IPY_MODEL_c92400cd75eb4bc59d8744ec3c8f2f12"
          }
        },
        "1d0ceef66e4249c59faf806d1f025213": {
          "model_module": "@jupyter-widgets/controls",
          "model_name": "DescriptionStyleModel",
          "model_module_version": "1.5.0",
          "state": {
            "_view_name": "StyleView",
            "_model_name": "DescriptionStyleModel",
            "description_width": "",
            "_view_module": "@jupyter-widgets/base",
            "_model_module_version": "1.5.0",
            "_view_count": null,
            "_view_module_version": "1.2.0",
            "_model_module": "@jupyter-widgets/controls"
          }
        },
        "627a0a15628841a98301e2d0a3189f06": {
          "model_module": "@jupyter-widgets/base",
          "model_name": "LayoutModel",
          "model_module_version": "1.2.0",
          "state": {
            "_view_name": "LayoutView",
            "grid_template_rows": null,
            "right": null,
            "justify_content": null,
            "_view_module": "@jupyter-widgets/base",
            "overflow": null,
            "_model_module_version": "1.2.0",
            "_view_count": null,
            "flex_flow": null,
            "width": null,
            "min_width": null,
            "border": null,
            "align_items": null,
            "bottom": null,
            "_model_module": "@jupyter-widgets/base",
            "top": null,
            "grid_column": null,
            "overflow_y": null,
            "overflow_x": null,
            "grid_auto_flow": null,
            "grid_area": null,
            "grid_template_columns": null,
            "flex": null,
            "_model_name": "LayoutModel",
            "justify_items": null,
            "grid_row": null,
            "max_height": null,
            "align_content": null,
            "visibility": null,
            "align_self": null,
            "height": null,
            "min_height": null,
            "padding": null,
            "grid_auto_rows": null,
            "grid_gap": null,
            "max_width": null,
            "order": null,
            "_view_module_version": "1.2.0",
            "grid_template_areas": null,
            "object_position": null,
            "object_fit": null,
            "grid_auto_columns": null,
            "margin": null,
            "display": null,
            "left": null
          }
        },
        "52a496bbd6f04080a6a5cf35bd110f34": {
          "model_module": "@jupyter-widgets/controls",
          "model_name": "ProgressStyleModel",
          "model_module_version": "1.5.0",
          "state": {
            "_view_name": "StyleView",
            "_model_name": "ProgressStyleModel",
            "description_width": "",
            "_view_module": "@jupyter-widgets/base",
            "_model_module_version": "1.5.0",
            "_view_count": null,
            "_view_module_version": "1.2.0",
            "bar_color": null,
            "_model_module": "@jupyter-widgets/controls"
          }
        },
        "a14a5a97f52f420899993d4b57e656fc": {
          "model_module": "@jupyter-widgets/base",
          "model_name": "LayoutModel",
          "model_module_version": "1.2.0",
          "state": {
            "_view_name": "LayoutView",
            "grid_template_rows": null,
            "right": null,
            "justify_content": null,
            "_view_module": "@jupyter-widgets/base",
            "overflow": null,
            "_model_module_version": "1.2.0",
            "_view_count": null,
            "flex_flow": null,
            "width": null,
            "min_width": null,
            "border": null,
            "align_items": null,
            "bottom": null,
            "_model_module": "@jupyter-widgets/base",
            "top": null,
            "grid_column": null,
            "overflow_y": null,
            "overflow_x": null,
            "grid_auto_flow": null,
            "grid_area": null,
            "grid_template_columns": null,
            "flex": null,
            "_model_name": "LayoutModel",
            "justify_items": null,
            "grid_row": null,
            "max_height": null,
            "align_content": null,
            "visibility": null,
            "align_self": null,
            "height": null,
            "min_height": null,
            "padding": null,
            "grid_auto_rows": null,
            "grid_gap": null,
            "max_width": null,
            "order": null,
            "_view_module_version": "1.2.0",
            "grid_template_areas": null,
            "object_position": null,
            "object_fit": null,
            "grid_auto_columns": null,
            "margin": null,
            "display": null,
            "left": null
          }
        },
        "137e8f0bcc554f32b5a54875fa95cad3": {
          "model_module": "@jupyter-widgets/controls",
          "model_name": "DescriptionStyleModel",
          "model_module_version": "1.5.0",
          "state": {
            "_view_name": "StyleView",
            "_model_name": "DescriptionStyleModel",
            "description_width": "",
            "_view_module": "@jupyter-widgets/base",
            "_model_module_version": "1.5.0",
            "_view_count": null,
            "_view_module_version": "1.2.0",
            "_model_module": "@jupyter-widgets/controls"
          }
        },
        "c92400cd75eb4bc59d8744ec3c8f2f12": {
          "model_module": "@jupyter-widgets/base",
          "model_name": "LayoutModel",
          "model_module_version": "1.2.0",
          "state": {
            "_view_name": "LayoutView",
            "grid_template_rows": null,
            "right": null,
            "justify_content": null,
            "_view_module": "@jupyter-widgets/base",
            "overflow": null,
            "_model_module_version": "1.2.0",
            "_view_count": null,
            "flex_flow": null,
            "width": null,
            "min_width": null,
            "border": null,
            "align_items": null,
            "bottom": null,
            "_model_module": "@jupyter-widgets/base",
            "top": null,
            "grid_column": null,
            "overflow_y": null,
            "overflow_x": null,
            "grid_auto_flow": null,
            "grid_area": null,
            "grid_template_columns": null,
            "flex": null,
            "_model_name": "LayoutModel",
            "justify_items": null,
            "grid_row": null,
            "max_height": null,
            "align_content": null,
            "visibility": null,
            "align_self": null,
            "height": null,
            "min_height": null,
            "padding": null,
            "grid_auto_rows": null,
            "grid_gap": null,
            "max_width": null,
            "order": null,
            "_view_module_version": "1.2.0",
            "grid_template_areas": null,
            "object_position": null,
            "object_fit": null,
            "grid_auto_columns": null,
            "margin": null,
            "display": null,
            "left": null
          }
        },
        "cc22966add904a648bc12b1860365cab": {
          "model_module": "@jupyter-widgets/controls",
          "model_name": "HBoxModel",
          "model_module_version": "1.5.0",
          "state": {
            "_view_name": "HBoxView",
            "_dom_classes": [],
            "_model_name": "HBoxModel",
            "_view_module": "@jupyter-widgets/controls",
            "_model_module_version": "1.5.0",
            "_view_count": null,
            "_view_module_version": "1.5.0",
            "box_style": "",
            "layout": "IPY_MODEL_7c39a8ad9d18464ab6b00b8e40f030ef",
            "_model_module": "@jupyter-widgets/controls",
            "children": [
              "IPY_MODEL_3d648f8d670c4460a5f642d7024b6c3d",
              "IPY_MODEL_b7856a8899a04c339c05406851ba64c4",
              "IPY_MODEL_486fbaf971a146659767f9345bc16b2c"
            ]
          }
        },
        "7c39a8ad9d18464ab6b00b8e40f030ef": {
          "model_module": "@jupyter-widgets/base",
          "model_name": "LayoutModel",
          "model_module_version": "1.2.0",
          "state": {
            "_view_name": "LayoutView",
            "grid_template_rows": null,
            "right": null,
            "justify_content": null,
            "_view_module": "@jupyter-widgets/base",
            "overflow": null,
            "_model_module_version": "1.2.0",
            "_view_count": null,
            "flex_flow": null,
            "width": null,
            "min_width": null,
            "border": null,
            "align_items": null,
            "bottom": null,
            "_model_module": "@jupyter-widgets/base",
            "top": null,
            "grid_column": null,
            "overflow_y": null,
            "overflow_x": null,
            "grid_auto_flow": null,
            "grid_area": null,
            "grid_template_columns": null,
            "flex": null,
            "_model_name": "LayoutModel",
            "justify_items": null,
            "grid_row": null,
            "max_height": null,
            "align_content": null,
            "visibility": null,
            "align_self": null,
            "height": null,
            "min_height": null,
            "padding": null,
            "grid_auto_rows": null,
            "grid_gap": null,
            "max_width": null,
            "order": null,
            "_view_module_version": "1.2.0",
            "grid_template_areas": null,
            "object_position": null,
            "object_fit": null,
            "grid_auto_columns": null,
            "margin": null,
            "display": null,
            "left": null
          }
        },
        "3d648f8d670c4460a5f642d7024b6c3d": {
          "model_module": "@jupyter-widgets/controls",
          "model_name": "HTMLModel",
          "model_module_version": "1.5.0",
          "state": {
            "_view_name": "HTMLView",
            "style": "IPY_MODEL_678fab9e5bbe4712ab67accfbb97d43f",
            "_dom_classes": [],
            "description": "",
            "_model_name": "HTMLModel",
            "placeholder": "​",
            "_view_module": "@jupyter-widgets/controls",
            "_model_module_version": "1.5.0",
            "value": "100%",
            "_view_count": null,
            "_view_module_version": "1.5.0",
            "description_tooltip": null,
            "_model_module": "@jupyter-widgets/controls",
            "layout": "IPY_MODEL_b048dbca0e9a4f72bff95ce4277047c3"
          }
        },
        "b7856a8899a04c339c05406851ba64c4": {
          "model_module": "@jupyter-widgets/controls",
          "model_name": "FloatProgressModel",
          "model_module_version": "1.5.0",
          "state": {
            "_view_name": "ProgressView",
            "style": "IPY_MODEL_00675aee3bd443848de2090a2f7ed8cf",
            "_dom_classes": [],
            "description": "",
            "_model_name": "FloatProgressModel",
            "bar_style": "success",
            "max": 2513556,
            "_view_module": "@jupyter-widgets/controls",
            "_model_module_version": "1.5.0",
            "value": 2513556,
            "_view_count": null,
            "_view_module_version": "1.5.0",
            "orientation": "horizontal",
            "min": 0,
            "description_tooltip": null,
            "_model_module": "@jupyter-widgets/controls",
            "layout": "IPY_MODEL_60c552e418c0485f947a442c9d33a91a"
          }
        },
        "486fbaf971a146659767f9345bc16b2c": {
          "model_module": "@jupyter-widgets/controls",
          "model_name": "HTMLModel",
          "model_module_version": "1.5.0",
          "state": {
            "_view_name": "HTMLView",
            "style": "IPY_MODEL_feee4b27e25345658913403bd2d5c62c",
            "_dom_classes": [],
            "description": "",
            "_model_name": "HTMLModel",
            "placeholder": "​",
            "_view_module": "@jupyter-widgets/controls",
            "_model_module_version": "1.5.0",
            "value": " 2.40M/2.40M [00:00&lt;00:00, 28.1MB/s]",
            "_view_count": null,
            "_view_module_version": "1.5.0",
            "description_tooltip": null,
            "_model_module": "@jupyter-widgets/controls",
            "layout": "IPY_MODEL_e777652b719a45668f183c2fd564dc71"
          }
        },
        "678fab9e5bbe4712ab67accfbb97d43f": {
          "model_module": "@jupyter-widgets/controls",
          "model_name": "DescriptionStyleModel",
          "model_module_version": "1.5.0",
          "state": {
            "_view_name": "StyleView",
            "_model_name": "DescriptionStyleModel",
            "description_width": "",
            "_view_module": "@jupyter-widgets/base",
            "_model_module_version": "1.5.0",
            "_view_count": null,
            "_view_module_version": "1.2.0",
            "_model_module": "@jupyter-widgets/controls"
          }
        },
        "b048dbca0e9a4f72bff95ce4277047c3": {
          "model_module": "@jupyter-widgets/base",
          "model_name": "LayoutModel",
          "model_module_version": "1.2.0",
          "state": {
            "_view_name": "LayoutView",
            "grid_template_rows": null,
            "right": null,
            "justify_content": null,
            "_view_module": "@jupyter-widgets/base",
            "overflow": null,
            "_model_module_version": "1.2.0",
            "_view_count": null,
            "flex_flow": null,
            "width": null,
            "min_width": null,
            "border": null,
            "align_items": null,
            "bottom": null,
            "_model_module": "@jupyter-widgets/base",
            "top": null,
            "grid_column": null,
            "overflow_y": null,
            "overflow_x": null,
            "grid_auto_flow": null,
            "grid_area": null,
            "grid_template_columns": null,
            "flex": null,
            "_model_name": "LayoutModel",
            "justify_items": null,
            "grid_row": null,
            "max_height": null,
            "align_content": null,
            "visibility": null,
            "align_self": null,
            "height": null,
            "min_height": null,
            "padding": null,
            "grid_auto_rows": null,
            "grid_gap": null,
            "max_width": null,
            "order": null,
            "_view_module_version": "1.2.0",
            "grid_template_areas": null,
            "object_position": null,
            "object_fit": null,
            "grid_auto_columns": null,
            "margin": null,
            "display": null,
            "left": null
          }
        },
        "00675aee3bd443848de2090a2f7ed8cf": {
          "model_module": "@jupyter-widgets/controls",
          "model_name": "ProgressStyleModel",
          "model_module_version": "1.5.0",
          "state": {
            "_view_name": "StyleView",
            "_model_name": "ProgressStyleModel",
            "description_width": "",
            "_view_module": "@jupyter-widgets/base",
            "_model_module_version": "1.5.0",
            "_view_count": null,
            "_view_module_version": "1.2.0",
            "bar_color": null,
            "_model_module": "@jupyter-widgets/controls"
          }
        },
        "60c552e418c0485f947a442c9d33a91a": {
          "model_module": "@jupyter-widgets/base",
          "model_name": "LayoutModel",
          "model_module_version": "1.2.0",
          "state": {
            "_view_name": "LayoutView",
            "grid_template_rows": null,
            "right": null,
            "justify_content": null,
            "_view_module": "@jupyter-widgets/base",
            "overflow": null,
            "_model_module_version": "1.2.0",
            "_view_count": null,
            "flex_flow": null,
            "width": null,
            "min_width": null,
            "border": null,
            "align_items": null,
            "bottom": null,
            "_model_module": "@jupyter-widgets/base",
            "top": null,
            "grid_column": null,
            "overflow_y": null,
            "overflow_x": null,
            "grid_auto_flow": null,
            "grid_area": null,
            "grid_template_columns": null,
            "flex": null,
            "_model_name": "LayoutModel",
            "justify_items": null,
            "grid_row": null,
            "max_height": null,
            "align_content": null,
            "visibility": null,
            "align_self": null,
            "height": null,
            "min_height": null,
            "padding": null,
            "grid_auto_rows": null,
            "grid_gap": null,
            "max_width": null,
            "order": null,
            "_view_module_version": "1.2.0",
            "grid_template_areas": null,
            "object_position": null,
            "object_fit": null,
            "grid_auto_columns": null,
            "margin": null,
            "display": null,
            "left": null
          }
        },
        "feee4b27e25345658913403bd2d5c62c": {
          "model_module": "@jupyter-widgets/controls",
          "model_name": "DescriptionStyleModel",
          "model_module_version": "1.5.0",
          "state": {
            "_view_name": "StyleView",
            "_model_name": "DescriptionStyleModel",
            "description_width": "",
            "_view_module": "@jupyter-widgets/base",
            "_model_module_version": "1.5.0",
            "_view_count": null,
            "_view_module_version": "1.2.0",
            "_model_module": "@jupyter-widgets/controls"
          }
        },
        "e777652b719a45668f183c2fd564dc71": {
          "model_module": "@jupyter-widgets/base",
          "model_name": "LayoutModel",
          "model_module_version": "1.2.0",
          "state": {
            "_view_name": "LayoutView",
            "grid_template_rows": null,
            "right": null,
            "justify_content": null,
            "_view_module": "@jupyter-widgets/base",
            "overflow": null,
            "_model_module_version": "1.2.0",
            "_view_count": null,
            "flex_flow": null,
            "width": null,
            "min_width": null,
            "border": null,
            "align_items": null,
            "bottom": null,
            "_model_module": "@jupyter-widgets/base",
            "top": null,
            "grid_column": null,
            "overflow_y": null,
            "overflow_x": null,
            "grid_auto_flow": null,
            "grid_area": null,
            "grid_template_columns": null,
            "flex": null,
            "_model_name": "LayoutModel",
            "justify_items": null,
            "grid_row": null,
            "max_height": null,
            "align_content": null,
            "visibility": null,
            "align_self": null,
            "height": null,
            "min_height": null,
            "padding": null,
            "grid_auto_rows": null,
            "grid_gap": null,
            "max_width": null,
            "order": null,
            "_view_module_version": "1.2.0",
            "grid_template_areas": null,
            "object_position": null,
            "object_fit": null,
            "grid_auto_columns": null,
            "margin": null,
            "display": null,
            "left": null
          }
        },
        "d1baa8707c5949a8830a07a7911ebcf2": {
          "model_module": "@jupyter-widgets/controls",
          "model_name": "HBoxModel",
          "model_module_version": "1.5.0",
          "state": {
            "_view_name": "HBoxView",
            "_dom_classes": [],
            "_model_name": "HBoxModel",
            "_view_module": "@jupyter-widgets/controls",
            "_model_module_version": "1.5.0",
            "_view_count": null,
            "_view_module_version": "1.5.0",
            "box_style": "",
            "layout": "IPY_MODEL_20d1f6ac97c244e089b4b57b6cc4034f",
            "_model_module": "@jupyter-widgets/controls",
            "children": [
              "IPY_MODEL_47f2901522884d16b93a2982c5b411a2",
              "IPY_MODEL_9332a8ad5aa243bcbcc875a73cb71a73",
              "IPY_MODEL_a3f9d77a1f6b4bd2909082ba71358c49"
            ]
          }
        },
        "20d1f6ac97c244e089b4b57b6cc4034f": {
          "model_module": "@jupyter-widgets/base",
          "model_name": "LayoutModel",
          "model_module_version": "1.2.0",
          "state": {
            "_view_name": "LayoutView",
            "grid_template_rows": null,
            "right": null,
            "justify_content": null,
            "_view_module": "@jupyter-widgets/base",
            "overflow": null,
            "_model_module_version": "1.2.0",
            "_view_count": null,
            "flex_flow": null,
            "width": null,
            "min_width": null,
            "border": null,
            "align_items": null,
            "bottom": null,
            "_model_module": "@jupyter-widgets/base",
            "top": null,
            "grid_column": null,
            "overflow_y": null,
            "overflow_x": null,
            "grid_auto_flow": null,
            "grid_area": null,
            "grid_template_columns": null,
            "flex": null,
            "_model_name": "LayoutModel",
            "justify_items": null,
            "grid_row": null,
            "max_height": null,
            "align_content": null,
            "visibility": null,
            "align_self": null,
            "height": null,
            "min_height": null,
            "padding": null,
            "grid_auto_rows": null,
            "grid_gap": null,
            "max_width": null,
            "order": null,
            "_view_module_version": "1.2.0",
            "grid_template_areas": null,
            "object_position": null,
            "object_fit": null,
            "grid_auto_columns": null,
            "margin": null,
            "display": null,
            "left": null
          }
        },
        "47f2901522884d16b93a2982c5b411a2": {
          "model_module": "@jupyter-widgets/controls",
          "model_name": "HTMLModel",
          "model_module_version": "1.5.0",
          "state": {
            "_view_name": "HTMLView",
            "style": "IPY_MODEL_5a968a690d3d47f9a5500dcd391b108d",
            "_dom_classes": [],
            "description": "",
            "_model_name": "HTMLModel",
            "placeholder": "​",
            "_view_module": "@jupyter-widgets/controls",
            "_model_module_version": "1.5.0",
            "value": "100%",
            "_view_count": null,
            "_view_module_version": "1.5.0",
            "description_tooltip": null,
            "_model_module": "@jupyter-widgets/controls",
            "layout": "IPY_MODEL_a1c9645d4c2e4f96a8d709d7ba1ac372"
          }
        },
        "9332a8ad5aa243bcbcc875a73cb71a73": {
          "model_module": "@jupyter-widgets/controls",
          "model_name": "FloatProgressModel",
          "model_module_version": "1.5.0",
          "state": {
            "_view_name": "ProgressView",
            "style": "IPY_MODEL_13081c9e7ee742a385b8af44f196d7c5",
            "_dom_classes": [],
            "description": "",
            "_model_name": "FloatProgressModel",
            "bar_style": "success",
            "max": 17125163,
            "_view_module": "@jupyter-widgets/controls",
            "_model_module_version": "1.5.0",
            "value": 17125163,
            "_view_count": null,
            "_view_module_version": "1.5.0",
            "orientation": "horizontal",
            "min": 0,
            "description_tooltip": null,
            "_model_module": "@jupyter-widgets/controls",
            "layout": "IPY_MODEL_f337697a7ff8462bbd0bbe18daef526f"
          }
        },
        "a3f9d77a1f6b4bd2909082ba71358c49": {
          "model_module": "@jupyter-widgets/controls",
          "model_name": "HTMLModel",
          "model_module_version": "1.5.0",
          "state": {
            "_view_name": "HTMLView",
            "style": "IPY_MODEL_f8b33eb2d21a4aeca29b313bc29e5980",
            "_dom_classes": [],
            "description": "",
            "_model_name": "HTMLModel",
            "placeholder": "​",
            "_view_module": "@jupyter-widgets/controls",
            "_model_module_version": "1.5.0",
            "value": " 16.3M/16.3M [00:00&lt;00:00, 53.5MB/s]",
            "_view_count": null,
            "_view_module_version": "1.5.0",
            "description_tooltip": null,
            "_model_module": "@jupyter-widgets/controls",
            "layout": "IPY_MODEL_9b74bc2ede444fe0881803078d7896f3"
          }
        },
        "5a968a690d3d47f9a5500dcd391b108d": {
          "model_module": "@jupyter-widgets/controls",
          "model_name": "DescriptionStyleModel",
          "model_module_version": "1.5.0",
          "state": {
            "_view_name": "StyleView",
            "_model_name": "DescriptionStyleModel",
            "description_width": "",
            "_view_module": "@jupyter-widgets/base",
            "_model_module_version": "1.5.0",
            "_view_count": null,
            "_view_module_version": "1.2.0",
            "_model_module": "@jupyter-widgets/controls"
          }
        },
        "a1c9645d4c2e4f96a8d709d7ba1ac372": {
          "model_module": "@jupyter-widgets/base",
          "model_name": "LayoutModel",
          "model_module_version": "1.2.0",
          "state": {
            "_view_name": "LayoutView",
            "grid_template_rows": null,
            "right": null,
            "justify_content": null,
            "_view_module": "@jupyter-widgets/base",
            "overflow": null,
            "_model_module_version": "1.2.0",
            "_view_count": null,
            "flex_flow": null,
            "width": null,
            "min_width": null,
            "border": null,
            "align_items": null,
            "bottom": null,
            "_model_module": "@jupyter-widgets/base",
            "top": null,
            "grid_column": null,
            "overflow_y": null,
            "overflow_x": null,
            "grid_auto_flow": null,
            "grid_area": null,
            "grid_template_columns": null,
            "flex": null,
            "_model_name": "LayoutModel",
            "justify_items": null,
            "grid_row": null,
            "max_height": null,
            "align_content": null,
            "visibility": null,
            "align_self": null,
            "height": null,
            "min_height": null,
            "padding": null,
            "grid_auto_rows": null,
            "grid_gap": null,
            "max_width": null,
            "order": null,
            "_view_module_version": "1.2.0",
            "grid_template_areas": null,
            "object_position": null,
            "object_fit": null,
            "grid_auto_columns": null,
            "margin": null,
            "display": null,
            "left": null
          }
        },
        "13081c9e7ee742a385b8af44f196d7c5": {
          "model_module": "@jupyter-widgets/controls",
          "model_name": "ProgressStyleModel",
          "model_module_version": "1.5.0",
          "state": {
            "_view_name": "StyleView",
            "_model_name": "ProgressStyleModel",
            "description_width": "",
            "_view_module": "@jupyter-widgets/base",
            "_model_module_version": "1.5.0",
            "_view_count": null,
            "_view_module_version": "1.2.0",
            "bar_color": null,
            "_model_module": "@jupyter-widgets/controls"
          }
        },
        "f337697a7ff8462bbd0bbe18daef526f": {
          "model_module": "@jupyter-widgets/base",
          "model_name": "LayoutModel",
          "model_module_version": "1.2.0",
          "state": {
            "_view_name": "LayoutView",
            "grid_template_rows": null,
            "right": null,
            "justify_content": null,
            "_view_module": "@jupyter-widgets/base",
            "overflow": null,
            "_model_module_version": "1.2.0",
            "_view_count": null,
            "flex_flow": null,
            "width": null,
            "min_width": null,
            "border": null,
            "align_items": null,
            "bottom": null,
            "_model_module": "@jupyter-widgets/base",
            "top": null,
            "grid_column": null,
            "overflow_y": null,
            "overflow_x": null,
            "grid_auto_flow": null,
            "grid_area": null,
            "grid_template_columns": null,
            "flex": null,
            "_model_name": "LayoutModel",
            "justify_items": null,
            "grid_row": null,
            "max_height": null,
            "align_content": null,
            "visibility": null,
            "align_self": null,
            "height": null,
            "min_height": null,
            "padding": null,
            "grid_auto_rows": null,
            "grid_gap": null,
            "max_width": null,
            "order": null,
            "_view_module_version": "1.2.0",
            "grid_template_areas": null,
            "object_position": null,
            "object_fit": null,
            "grid_auto_columns": null,
            "margin": null,
            "display": null,
            "left": null
          }
        },
        "f8b33eb2d21a4aeca29b313bc29e5980": {
          "model_module": "@jupyter-widgets/controls",
          "model_name": "DescriptionStyleModel",
          "model_module_version": "1.5.0",
          "state": {
            "_view_name": "StyleView",
            "_model_name": "DescriptionStyleModel",
            "description_width": "",
            "_view_module": "@jupyter-widgets/base",
            "_model_module_version": "1.5.0",
            "_view_count": null,
            "_view_module_version": "1.2.0",
            "_model_module": "@jupyter-widgets/controls"
          }
        },
        "9b74bc2ede444fe0881803078d7896f3": {
          "model_module": "@jupyter-widgets/base",
          "model_name": "LayoutModel",
          "model_module_version": "1.2.0",
          "state": {
            "_view_name": "LayoutView",
            "grid_template_rows": null,
            "right": null,
            "justify_content": null,
            "_view_module": "@jupyter-widgets/base",
            "overflow": null,
            "_model_module_version": "1.2.0",
            "_view_count": null,
            "flex_flow": null,
            "width": null,
            "min_width": null,
            "border": null,
            "align_items": null,
            "bottom": null,
            "_model_module": "@jupyter-widgets/base",
            "top": null,
            "grid_column": null,
            "overflow_y": null,
            "overflow_x": null,
            "grid_auto_flow": null,
            "grid_area": null,
            "grid_template_columns": null,
            "flex": null,
            "_model_name": "LayoutModel",
            "justify_items": null,
            "grid_row": null,
            "max_height": null,
            "align_content": null,
            "visibility": null,
            "align_self": null,
            "height": null,
            "min_height": null,
            "padding": null,
            "grid_auto_rows": null,
            "grid_gap": null,
            "max_width": null,
            "order": null,
            "_view_module_version": "1.2.0",
            "grid_template_areas": null,
            "object_position": null,
            "object_fit": null,
            "grid_auto_columns": null,
            "margin": null,
            "display": null,
            "left": null
          }
        }
      }
    }
  },
  "cells": [
    {
      "cell_type": "code",
      "metadata": {
        "id": "H9U5VsGD38Be",
        "colab": {
          "base_uri": "https://localhost:8080/"
        },
        "outputId": "d12e3de3-2864-40df-d3f7-d039fd81d595"
      },
      "source": [
        "!cd content/CMU/*"
      ],
      "execution_count": null,
      "outputs": [
        {
          "output_type": "stream",
          "name": "stdout",
          "text": [
            "/bin/bash: line 0: cd: content/CMU/*: No such file or directory\n"
          ]
        }
      ]
    },
    {
      "cell_type": "code",
      "metadata": {
        "colab": {
          "base_uri": "https://localhost:8080/"
        },
        "id": "z02nN4DOvQJ8",
        "outputId": "a1894aa4-c910-48f7-fb84-83684b64f006"
      },
      "source": [
        "!git clone https://github.com/resemble-ai/Resemblyzer.git"
      ],
      "execution_count": null,
      "outputs": [
        {
          "output_type": "stream",
          "name": "stdout",
          "text": [
            "Cloning into 'Resemblyzer'...\n",
            "remote: Enumerating objects: 602, done.\u001b[K\n",
            "remote: Total 602 (delta 0), reused 0 (delta 0), pack-reused 602\u001b[K\n",
            "Receiving objects: 100% (602/602), 101.46 MiB | 36.15 MiB/s, done.\n",
            "Resolving deltas: 100% (107/107), done.\n"
          ]
        }
      ]
    },
    {
      "cell_type": "code",
      "metadata": {
        "id": "GlOdzrwut6xH",
        "colab": {
          "base_uri": "https://localhost:8080/"
        },
        "outputId": "1c024930-92c5-40f1-aa2b-84ca3cda1729"
      },
      "source": [
        "%cd /content/Resemblyzer/"
      ],
      "execution_count": null,
      "outputs": [
        {
          "output_type": "stream",
          "name": "stdout",
          "text": [
            "/content/Resemblyzer\n"
          ]
        }
      ]
    },
    {
      "cell_type": "code",
      "metadata": {
        "id": "e8fArtWS712N",
        "colab": {
          "base_uri": "https://localhost:8080/",
          "height": 1000
        },
        "outputId": "f3faccdf-d4f5-4598-e656-521107686fdc"
      },
      "source": [
        "!pip install -r  /content/Resemblyzer/requirements_demos.txt"
      ],
      "execution_count": null,
      "outputs": [
        {
          "output_type": "stream",
          "name": "stdout",
          "text": [
            "Requirement already satisfied: librosa>=0.6.1 in /usr/local/lib/python3.7/dist-packages (from -r /content/Resemblyzer/requirements_demos.txt (line 1)) (0.8.1)\n",
            "Requirement already satisfied: numpy>=1.10.1 in /usr/local/lib/python3.7/dist-packages (from -r /content/Resemblyzer/requirements_demos.txt (line 2)) (1.19.5)\n",
            "Collecting webrtcvad>=2.0.10\n",
            "  Downloading webrtcvad-2.0.10.tar.gz (66 kB)\n",
            "\u001b[K     |████████████████████████████████| 66 kB 2.4 MB/s \n",
            "\u001b[?25hRequirement already satisfied: torch>=1.0.1 in /usr/local/lib/python3.7/dist-packages (from -r /content/Resemblyzer/requirements_demos.txt (line 4)) (1.10.0+cu111)\n",
            "Requirement already satisfied: scipy>=1.2.1 in /usr/local/lib/python3.7/dist-packages (from -r /content/Resemblyzer/requirements_demos.txt (line 5)) (1.4.1)\n",
            "Collecting typing\n",
            "  Downloading typing-3.7.4.3.tar.gz (78 kB)\n",
            "\u001b[K     |████████████████████████████████| 78 kB 5.4 MB/s \n",
            "\u001b[?25hRequirement already satisfied: matplotlib>=3.0.0 in /usr/local/lib/python3.7/dist-packages (from -r /content/Resemblyzer/requirements_demos.txt (line 7)) (3.2.2)\n",
            "Collecting sounddevice\n",
            "  Downloading sounddevice-0.4.4-py3-none-any.whl (31 kB)\n",
            "Requirement already satisfied: tqdm in /usr/local/lib/python3.7/dist-packages (from -r /content/Resemblyzer/requirements_demos.txt (line 9)) (4.62.3)\n",
            "Collecting umap-learn\n",
            "  Downloading umap-learn-0.5.2.tar.gz (86 kB)\n",
            "\u001b[K     |████████████████████████████████| 86 kB 4.5 MB/s \n",
            "\u001b[?25hRequirement already satisfied: joblib>=0.14 in /usr/local/lib/python3.7/dist-packages (from librosa>=0.6.1->-r /content/Resemblyzer/requirements_demos.txt (line 1)) (1.1.0)\n",
            "Requirement already satisfied: scikit-learn!=0.19.0,>=0.14.0 in /usr/local/lib/python3.7/dist-packages (from librosa>=0.6.1->-r /content/Resemblyzer/requirements_demos.txt (line 1)) (1.0.1)\n",
            "Requirement already satisfied: decorator>=3.0.0 in /usr/local/lib/python3.7/dist-packages (from librosa>=0.6.1->-r /content/Resemblyzer/requirements_demos.txt (line 1)) (4.4.2)\n",
            "Requirement already satisfied: audioread>=2.0.0 in /usr/local/lib/python3.7/dist-packages (from librosa>=0.6.1->-r /content/Resemblyzer/requirements_demos.txt (line 1)) (2.1.9)\n",
            "Requirement already satisfied: resampy>=0.2.2 in /usr/local/lib/python3.7/dist-packages (from librosa>=0.6.1->-r /content/Resemblyzer/requirements_demos.txt (line 1)) (0.2.2)\n",
            "Requirement already satisfied: numba>=0.43.0 in /usr/local/lib/python3.7/dist-packages (from librosa>=0.6.1->-r /content/Resemblyzer/requirements_demos.txt (line 1)) (0.51.2)\n",
            "Requirement already satisfied: packaging>=20.0 in /usr/local/lib/python3.7/dist-packages (from librosa>=0.6.1->-r /content/Resemblyzer/requirements_demos.txt (line 1)) (21.3)\n",
            "Requirement already satisfied: pooch>=1.0 in /usr/local/lib/python3.7/dist-packages (from librosa>=0.6.1->-r /content/Resemblyzer/requirements_demos.txt (line 1)) (1.5.2)\n",
            "Requirement already satisfied: soundfile>=0.10.2 in /usr/local/lib/python3.7/dist-packages (from librosa>=0.6.1->-r /content/Resemblyzer/requirements_demos.txt (line 1)) (0.10.3.post1)\n",
            "Requirement already satisfied: typing-extensions in /usr/local/lib/python3.7/dist-packages (from torch>=1.0.1->-r /content/Resemblyzer/requirements_demos.txt (line 4)) (3.10.0.2)\n",
            "Requirement already satisfied: pyparsing!=2.0.4,!=2.1.2,!=2.1.6,>=2.0.1 in /usr/local/lib/python3.7/dist-packages (from matplotlib>=3.0.0->-r /content/Resemblyzer/requirements_demos.txt (line 7)) (3.0.6)\n",
            "Requirement already satisfied: cycler>=0.10 in /usr/local/lib/python3.7/dist-packages (from matplotlib>=3.0.0->-r /content/Resemblyzer/requirements_demos.txt (line 7)) (0.11.0)\n",
            "Requirement already satisfied: python-dateutil>=2.1 in /usr/local/lib/python3.7/dist-packages (from matplotlib>=3.0.0->-r /content/Resemblyzer/requirements_demos.txt (line 7)) (2.8.2)\n",
            "Requirement already satisfied: kiwisolver>=1.0.1 in /usr/local/lib/python3.7/dist-packages (from matplotlib>=3.0.0->-r /content/Resemblyzer/requirements_demos.txt (line 7)) (1.3.2)\n",
            "Requirement already satisfied: llvmlite<0.35,>=0.34.0.dev0 in /usr/local/lib/python3.7/dist-packages (from numba>=0.43.0->librosa>=0.6.1->-r /content/Resemblyzer/requirements_demos.txt (line 1)) (0.34.0)\n",
            "Requirement already satisfied: setuptools in /usr/local/lib/python3.7/dist-packages (from numba>=0.43.0->librosa>=0.6.1->-r /content/Resemblyzer/requirements_demos.txt (line 1)) (57.4.0)\n",
            "Requirement already satisfied: requests in /usr/local/lib/python3.7/dist-packages (from pooch>=1.0->librosa>=0.6.1->-r /content/Resemblyzer/requirements_demos.txt (line 1)) (2.23.0)\n",
            "Requirement already satisfied: appdirs in /usr/local/lib/python3.7/dist-packages (from pooch>=1.0->librosa>=0.6.1->-r /content/Resemblyzer/requirements_demos.txt (line 1)) (1.4.4)\n",
            "Requirement already satisfied: six>=1.5 in /usr/local/lib/python3.7/dist-packages (from python-dateutil>=2.1->matplotlib>=3.0.0->-r /content/Resemblyzer/requirements_demos.txt (line 7)) (1.15.0)\n",
            "Requirement already satisfied: threadpoolctl>=2.0.0 in /usr/local/lib/python3.7/dist-packages (from scikit-learn!=0.19.0,>=0.14.0->librosa>=0.6.1->-r /content/Resemblyzer/requirements_demos.txt (line 1)) (3.0.0)\n",
            "Requirement already satisfied: cffi>=1.0 in /usr/local/lib/python3.7/dist-packages (from soundfile>=0.10.2->librosa>=0.6.1->-r /content/Resemblyzer/requirements_demos.txt (line 1)) (1.15.0)\n",
            "Requirement already satisfied: pycparser in /usr/local/lib/python3.7/dist-packages (from cffi>=1.0->soundfile>=0.10.2->librosa>=0.6.1->-r /content/Resemblyzer/requirements_demos.txt (line 1)) (2.21)\n",
            "Collecting pynndescent>=0.5\n",
            "  Downloading pynndescent-0.5.5.tar.gz (1.1 MB)\n",
            "\u001b[K     |████████████████████████████████| 1.1 MB 23.0 MB/s \n",
            "\u001b[?25hRequirement already satisfied: chardet<4,>=3.0.2 in /usr/local/lib/python3.7/dist-packages (from requests->pooch>=1.0->librosa>=0.6.1->-r /content/Resemblyzer/requirements_demos.txt (line 1)) (3.0.4)\n",
            "Requirement already satisfied: urllib3!=1.25.0,!=1.25.1,<1.26,>=1.21.1 in /usr/local/lib/python3.7/dist-packages (from requests->pooch>=1.0->librosa>=0.6.1->-r /content/Resemblyzer/requirements_demos.txt (line 1)) (1.24.3)\n",
            "Requirement already satisfied: certifi>=2017.4.17 in /usr/local/lib/python3.7/dist-packages (from requests->pooch>=1.0->librosa>=0.6.1->-r /content/Resemblyzer/requirements_demos.txt (line 1)) (2021.10.8)\n",
            "Requirement already satisfied: idna<3,>=2.5 in /usr/local/lib/python3.7/dist-packages (from requests->pooch>=1.0->librosa>=0.6.1->-r /content/Resemblyzer/requirements_demos.txt (line 1)) (2.10)\n",
            "Building wheels for collected packages: webrtcvad, typing, umap-learn, pynndescent\n",
            "  Building wheel for webrtcvad (setup.py) ... \u001b[?25l\u001b[?25hdone\n",
            "  Created wheel for webrtcvad: filename=webrtcvad-2.0.10-cp37-cp37m-linux_x86_64.whl size=72371 sha256=7621f4ae82593fcd07bed8d20dbae14244801d282e036e3ccae3bc29a5c95bee\n",
            "  Stored in directory: /root/.cache/pip/wheels/11/f9/67/a3158d131f57e1c0a7d8d966a707d4a2fb27567a4fe47723ad\n",
            "  Building wheel for typing (setup.py) ... \u001b[?25l\u001b[?25hdone\n",
            "  Created wheel for typing: filename=typing-3.7.4.3-py3-none-any.whl size=26324 sha256=fbd02a1c9f53568e1fc1325fe365404b2e64401b5d3e3300c61e00db30c1c037\n",
            "  Stored in directory: /root/.cache/pip/wheels/35/f3/15/01aa6571f0a72ee6ae7b827c1491c37a1f72d686fd22b43b0e\n",
            "  Building wheel for umap-learn (setup.py) ... \u001b[?25l\u001b[?25hdone\n",
            "  Created wheel for umap-learn: filename=umap_learn-0.5.2-py3-none-any.whl size=82709 sha256=ba9cc8bd29661af264bf40ab0438f52001799bd4db06a4047b8d6e9d3370d702\n",
            "  Stored in directory: /root/.cache/pip/wheels/84/1b/c6/aaf68a748122632967cef4dffef68224eb16798b6793257d82\n",
            "  Building wheel for pynndescent (setup.py) ... \u001b[?25l\u001b[?25hdone\n",
            "  Created wheel for pynndescent: filename=pynndescent-0.5.5-py3-none-any.whl size=52603 sha256=baff4af0093c996b086ed9c9f33e3ee2e24de44b6cf5cfc68aec0a949a5146dd\n",
            "  Stored in directory: /root/.cache/pip/wheels/af/e9/33/04db1436df0757c42fda8ea6796d7a8586e23c85fac355f476\n",
            "Successfully built webrtcvad typing umap-learn pynndescent\n",
            "Installing collected packages: pynndescent, webrtcvad, umap-learn, typing, sounddevice\n",
            "Successfully installed pynndescent-0.5.5 sounddevice-0.4.4 typing-3.7.4.3 umap-learn-0.5.2 webrtcvad-2.0.10\n"
          ]
        },
        {
          "output_type": "display_data",
          "data": {
            "application/vnd.colab-display-data+json": {
              "pip_warning": {
                "packages": [
                  "typing"
                ]
              }
            }
          },
          "metadata": {}
        }
      ]
    },
    {
      "cell_type": "code",
      "source": [
        "!mkdir /content/new"
      ],
      "metadata": {
        "id": "zRgOQENi6Az1"
      },
      "execution_count": null,
      "outputs": []
    },
    {
      "cell_type": "code",
      "metadata": {
        "id": "UQc65X8EwcFd",
        "colab": {
          "base_uri": "https://localhost:8080/"
        },
        "outputId": "4c4d6ac3-ebb6-4f6b-b53b-18815d6fb165"
      },
      "source": [
        "from resemblyzer import preprocess_wav, VoiceEncoder\n",
        "from pathlib import Path\n",
        "\n",
        "#give the file path to your audio file (Noagenda-0690-2015-01-25-Noagenda-0690-2015-01-25 from 13:37 to 15:12)\n",
        "audio_file_path = '/content/new/noagenda-extract.wav'\n",
        "wav_fpath = Path(audio_file_path)\n",
        "\n",
        "wav = preprocess_wav(wav_fpath)\n",
        "encoder = VoiceEncoder(\"cpu\")\n",
        "_, cont_embeds, wav_splits = encoder.embed_utterance(wav, return_partials=True, rate=16)\n",
        "print(cont_embeds.shape)"
      ],
      "execution_count": null,
      "outputs": [
        {
          "output_type": "stream",
          "name": "stdout",
          "text": [
            "Loaded the voice encoder model on cpu in 0.04 seconds.\n",
            "(1548, 256)\n"
          ]
        }
      ]
    },
    {
      "cell_type": "code",
      "source": [
        "!pip install spectralcluster"
      ],
      "metadata": {
        "colab": {
          "base_uri": "https://localhost:8080/"
        },
        "id": "l2ukM7FZ4gOQ",
        "outputId": "5c736757-a471-4fe3-d2ae-c3509d16062b"
      },
      "execution_count": null,
      "outputs": [
        {
          "output_type": "stream",
          "name": "stdout",
          "text": [
            "Collecting spectralcluster\n",
            "  Downloading spectralcluster-0.2.4-py3-none-any.whl (22 kB)\n",
            "Installing collected packages: spectralcluster\n",
            "Successfully installed spectralcluster-0.2.4\n"
          ]
        }
      ]
    },
    {
      "cell_type": "code",
      "metadata": {
        "id": "7EK86s0Lz9SR"
      },
      "source": [
        "from spectralcluster import configs\n",
        "\n",
        "labels = configs.icassp2018_clusterer.predict(cont_embeds)\n",
        "\n",
        "#labels = clusterer.predict(cont_embeds)"
      ],
      "execution_count": null,
      "outputs": []
    },
    {
      "cell_type": "code",
      "metadata": {
        "id": "27JlJ-N_209R"
      },
      "source": [
        "from spectralcluster import RefinementOptions\n",
        "from spectralcluster import ThresholdType\n",
        "from spectralcluster import ICASSP2018_REFINEMENT_SEQUENCE\n",
        "\n",
        "refinement_options = RefinementOptions(\n",
        "    gaussian_blur_sigma=1,\n",
        "    p_percentile=0.95,\n",
        "    thresholding_soft_multiplier=0.01,\n",
        "    thresholding_type=ThresholdType.RowMax,\n",
        "    refinement_sequence=ICASSP2018_REFINEMENT_SEQUENCE)"
      ],
      "execution_count": null,
      "outputs": []
    },
    {
      "cell_type": "code",
      "metadata": {
        "colab": {
          "base_uri": "https://localhost:8080/"
        },
        "id": "QxvGJq9l2PRS",
        "outputId": "4aa9a489-4eee-4b87-f7a3-2437694212b2"
      },
      "source": [
        "from spectralcluster import SpectralClusterer\n",
        "\n",
        "clusterer = SpectralClusterer(\n",
        "    min_clusters=2,\n",
        "    max_clusters=7,\n",
        "    autotune=None,\n",
        "    laplacian_type=None,\n",
        "    refinement_options=refinement_options,\n",
        "    custom_dist=\"cosine\")\n",
        "print(\"Done\")\n",
        "labels = clusterer.predict(cont_embeds)"
      ],
      "execution_count": null,
      "outputs": [
        {
          "output_type": "stream",
          "name": "stdout",
          "text": [
            "Done\n"
          ]
        }
      ]
    },
    {
      "cell_type": "code",
      "metadata": {
        "colab": {
          "base_uri": "https://localhost:8080/"
        },
        "id": "a9X-uwne8la9",
        "outputId": "323b4628-4bc2-4eff-c871-38d391cd1ef3"
      },
      "source": [
        "labels"
      ],
      "execution_count": null,
      "outputs": [
        {
          "output_type": "execute_result",
          "data": {
            "text/plain": [
              "array([0, 0, 0, ..., 0, 0, 0])"
            ]
          },
          "metadata": {},
          "execution_count": 13
        }
      ]
    },
    {
      "cell_type": "code",
      "metadata": {
        "id": "2WShlxdb3U_w"
      },
      "source": [
        "from spectralcluster import AutoTune\n",
        "\n",
        "autotune = AutoTune(\n",
        "    p_percentile_min=0.60,\n",
        "    p_percentile_max=0.95,\n",
        "    init_search_step=0.01,\n",
        "    search_level=3)"
      ],
      "execution_count": null,
      "outputs": []
    },
    {
      "cell_type": "code",
      "metadata": {
        "id": "E9ad0LRuBUh5"
      },
      "source": [
        "def create_labelling(labels,wav_splits):\n",
        "    from resemblyzer import sampling_rate\n",
        "    times = [((s.start + s.stop) / 2) / sampling_rate for s in wav_splits]\n",
        "    labelling = []\n",
        "    start_time = 0\n",
        "\n",
        "    for i,time in enumerate(times):\n",
        "        if i>0 and labels[i]!=labels[i-1]:\n",
        "            temp = [str(labels[i-1]),start_time,time]\n",
        "            labelling.append(tuple(temp))\n",
        "            start_time = time\n",
        "        if i==len(times)-1:\n",
        "            temp = [str(labels[i]),start_time,time]\n",
        "            labelling.append(tuple(temp))\n",
        "\n",
        "    return labelling"
      ],
      "execution_count": null,
      "outputs": []
    },
    {
      "cell_type": "code",
      "metadata": {
        "id": "3PnXWMJYz_iS"
      },
      "source": [
        "labelling = create_labelling(labels,wav_splits)"
      ],
      "execution_count": null,
      "outputs": []
    },
    {
      "cell_type": "code",
      "metadata": {
        "colab": {
          "base_uri": "https://localhost:8080/"
        },
        "id": "wxriYemj0Z7Y",
        "outputId": "87316353-580a-4d81-e59c-e9f1230dd4cc"
      },
      "source": [
        "labelling"
      ],
      "execution_count": null,
      "outputs": [
        {
          "output_type": "execute_result",
          "data": {
            "text/plain": [
              "[('0', 0, 16.34),\n",
              " ('1', 16.34, 17.78),\n",
              " ('0', 17.78, 22.4),\n",
              " ('1', 22.4, 24.14),\n",
              " ('0', 24.14, 27.86),\n",
              " ('1', 27.86, 30.38),\n",
              " ('0', 30.38, 57.74),\n",
              " ('1', 57.74, 62.06),\n",
              " ('0', 62.06, 69.38),\n",
              " ('1', 69.38, 69.5),\n",
              " ('0', 69.5, 70.94),\n",
              " ('1', 70.94, 74.9),\n",
              " ('0', 74.9, 79.76),\n",
              " ('1', 79.76, 80.18),\n",
              " ('0', 80.18, 93.62)]"
            ]
          },
          "metadata": {},
          "execution_count": 13
        }
      ]
    },
    {
      "cell_type": "code",
      "metadata": {
        "id": "vR7KyZfI-_Ao",
        "colab": {
          "base_uri": "https://localhost:8080/"
        },
        "outputId": "10b46555-09ee-4948-a97a-93dd69d0a502"
      },
      "source": [
        "pip install pydub"
      ],
      "execution_count": null,
      "outputs": [
        {
          "output_type": "stream",
          "name": "stdout",
          "text": [
            "Collecting pydub\n",
            "  Downloading pydub-0.25.1-py2.py3-none-any.whl (32 kB)\n",
            "Installing collected packages: pydub\n",
            "Successfully installed pydub-0.25.1\n"
          ]
        }
      ]
    },
    {
      "cell_type": "code",
      "metadata": {
        "id": "moOO6lsEwcJa"
      },
      "source": [
        "from pydub import AudioSegment\n",
        "\n",
        "def mp3_to_wav(audio_file_path):\n",
        "    sound = AudioSegment.from_mp3(audio_file_path)\n",
        "    audio_file_path = audio_file_path.split('.')[0] + '.wav'\n",
        "    sound.export(audio_file_path, format=\"wav\")\n",
        "    return audio_file_path\n",
        "\n",
        "#audio_file_path = mp3_to_wav(audio_file_path)\n",
        "#print(audio_file_path)"
      ],
      "execution_count": null,
      "outputs": []
    },
    {
      "cell_type": "code",
      "metadata": {
        "id": "yL3ePSyR_bH1",
        "colab": {
          "base_uri": "https://localhost:8080/"
        },
        "outputId": "158060b2-484c-43c6-8385-9620b34ab2c3"
      },
      "source": [
        "pip install spectralcluster"
      ],
      "execution_count": null,
      "outputs": [
        {
          "output_type": "stream",
          "name": "stdout",
          "text": [
            "Requirement already satisfied: spectralcluster in /usr/local/lib/python3.7/dist-packages (0.2.4)\n"
          ]
        }
      ]
    },
    {
      "cell_type": "code",
      "metadata": {
        "id": "xlsxmiVO8Qzc",
        "colab": {
          "base_uri": "https://localhost:8080/"
        },
        "outputId": "511b9ff5-92db-4bcd-e652-6a71b830c276"
      },
      "source": [
        "!pip install ffmpeg-python"
      ],
      "execution_count": null,
      "outputs": [
        {
          "output_type": "stream",
          "name": "stdout",
          "text": [
            "Collecting ffmpeg-python\n",
            "  Downloading ffmpeg_python-0.2.0-py3-none-any.whl (25 kB)\n",
            "Requirement already satisfied: future in /usr/local/lib/python3.7/dist-packages (from ffmpeg-python) (0.16.0)\n",
            "Installing collected packages: ffmpeg-python\n",
            "Successfully installed ffmpeg-python-0.2.0\n"
          ]
        }
      ]
    },
    {
      "cell_type": "code",
      "metadata": {
        "id": "-xXOfgzv_cfQ"
      },
      "source": [
        "import ffmpeg\n",
        "def create_output_files(path):\n",
        "    # For each tuple in the labelling file, extract ele[0] as the speaker\n",
        "    # label, ele[1] as the start time, and ele[2] as the end time\n",
        "    num = 1\n",
        "    input = ffmpeg.input(path)\n",
        "    for ele in labelling:\n",
        "        audio_trim = input.audio.filter('atrim', start=ele[1], end=ele[2])\n",
        "        numstr = str(num)\n",
        "        while len(numstr) < 4:\n",
        "            numstr = \"0\" + numstr\n",
        "        output = ffmpeg.output(audio_trim, \"/content/extract{}.wav\".format(numstr))\n",
        "        output.run(capture_stdout=True, capture_stderr=True, overwrite_output=True)\n",
        "        num += 1\n"
      ],
      "execution_count": null,
      "outputs": []
    },
    {
      "cell_type": "code",
      "metadata": {
        "id": "NW78jtSewcNk"
      },
      "source": [
        "try:\n",
        "    create_output_files(audio_file_path)\n",
        "except ffmpeg.Error as e:\n",
        "    print(e.stderr)  "
      ],
      "execution_count": null,
      "outputs": []
    },
    {
      "cell_type": "code",
      "metadata": {
        "id": "5oZK2HoPAGyj",
        "colab": {
          "base_uri": "https://localhost:8080/"
        },
        "outputId": "a7e90e4a-f6f7-49de-c7d6-373d8d18fe25"
      },
      "source": [
        "!pip install SpeechRecognition"
      ],
      "execution_count": null,
      "outputs": [
        {
          "output_type": "stream",
          "name": "stdout",
          "text": [
            "Collecting SpeechRecognition\n",
            "  Downloading SpeechRecognition-3.8.1-py2.py3-none-any.whl (32.8 MB)\n",
            "\u001b[K     |████████████████████████████████| 32.8 MB 1.6 MB/s \n",
            "\u001b[?25hInstalling collected packages: SpeechRecognition\n",
            "Successfully installed SpeechRecognition-3.8.1\n"
          ]
        }
      ]
    },
    {
      "cell_type": "code",
      "metadata": {
        "id": "TMkdRgj01aA_"
      },
      "source": [
        "import speech_recognition as sr\n",
        "def transcribe_audio(path):\n",
        "    r = sr.Recognizer()\n",
        "    audio_file = sr.AudioFile(path)\n",
        "    with audio_file as source:\n",
        "        r.adjust_for_ambient_noise(source)\n",
        "        audio = r.record(source)\n",
        "    try:\n",
        "        res = r.recognize_google(audio, language=\"en-US\")\n",
        "    except sr.UnknownValueError:\n",
        "        res = \"(The speech is unintelligible)\"\n",
        "    except sr.RequestError:\n",
        "        res = \"(The speech recognition operation failed)\"\n",
        "    return res"
      ],
      "execution_count": null,
      "outputs": []
    },
    {
      "cell_type": "code",
      "metadata": {
        "id": "PpTeJKOiFw64",
        "colab": {
          "base_uri": "https://localhost:8080/"
        },
        "outputId": "943238c6-076d-4595-d290-2310e6f26a61"
      },
      "source": [
        "import os\n",
        "import os.path\n",
        "list_dir = os.listdir(\"/content\")\n",
        "i = 0\n",
        "for e in list_dir:\n",
        "    if e.startswith('extract'):\n",
        "        path = os.path.join(\"/content\", e)\n",
        "        transcription = transcribe_audio(path)\n",
        "        print(\"Speaker {}: {}\".format(labelling[i][0], transcription))\n",
        "        i += 1"
      ],
      "execution_count": null,
      "outputs": [
        {
          "output_type": "stream",
          "name": "stdout",
          "text": [
            "Speaker 0: (The speech is unintelligible)\n",
            "Speaker 1: (The speech is unintelligible)\n",
            "Speaker 0: (The speech is unintelligible)\n",
            "Speaker 1: the commitments\n",
            "Speaker 0: negotiate\n",
            "Speaker 1: I have instability in financial markets believe that a couple of years ago\n",
            "Speaker 0: (The speech is unintelligible)\n",
            "Speaker 1: it'll be between\n",
            "Speaker 0: (The speech is unintelligible)\n",
            "Speaker 1: Eurasian or renegotiate\n",
            "Speaker 0: (The speech is unintelligible)\n",
            "Speaker 1: it's true I heard it too did you get this from TV or from the web\n",
            "Speaker 0: commitment\n",
            "Speaker 1: (The speech is unintelligible)\n",
            "Speaker 0: (The speech is unintelligible)\n"
          ]
        }
      ]
    },
    {
      "cell_type": "code",
      "metadata": {
        "id": "EHkLRQ4tiL3I"
      },
      "source": [
        "!pip install pyannote.metrics"
      ],
      "execution_count": null,
      "outputs": []
    },
    {
      "cell_type": "markdown",
      "metadata": {
        "id": "uskJDFZcm46W"
      },
      "source": [
        "To calculate the DER and the JER, several tools can be used such as *dscore* or *pyannote*\n",
        "\n",
        "# Dscore\n",
        "To use *dscore*, run the following commands."
      ]
    },
    {
      "cell_type": "code",
      "metadata": {
        "id": "M8_AjrS0oxSn",
        "colab": {
          "base_uri": "https://localhost:8080/"
        },
        "outputId": "1007792b-a597-4ea7-d9b2-9c3cc97fedaa"
      },
      "source": [
        "!git clone https://github.com/nryant/dscore.git"
      ],
      "execution_count": null,
      "outputs": [
        {
          "output_type": "stream",
          "name": "stdout",
          "text": [
            "fatal: destination path 'dscore' already exists and is not an empty directory.\n"
          ]
        }
      ]
    },
    {
      "cell_type": "code",
      "metadata": {
        "colab": {
          "base_uri": "https://localhost:8080/"
        },
        "id": "_7ZuyWl3SR7p",
        "outputId": "68170070-7b5c-4996-fe2e-73e5b5605b66"
      },
      "source": [
        "%cd ../dscore"
      ],
      "execution_count": null,
      "outputs": [
        {
          "output_type": "stream",
          "name": "stdout",
          "text": [
            "/content/dscore\n"
          ]
        }
      ]
    },
    {
      "cell_type": "code",
      "metadata": {
        "colab": {
          "base_uri": "https://localhost:8080/"
        },
        "id": "x1j4aXsuSEjb",
        "outputId": "7487ba09-21ba-483a-9f0a-e74a91b7fe89"
      },
      "source": [
        "!pip install -r requirements.txt"
      ],
      "execution_count": null,
      "outputs": [
        {
          "output_type": "stream",
          "name": "stdout",
          "text": [
            "Collecting intervaltree>=3.0.0\n",
            "  Downloading intervaltree-3.1.0.tar.gz (32 kB)\n",
            "Requirement already satisfied: numpy>=1.16.2 in /usr/local/lib/python3.7/dist-packages (from -r requirements.txt (line 2)) (1.19.5)\n",
            "Requirement already satisfied: scipy>=0.17.0 in /usr/local/lib/python3.7/dist-packages (from -r requirements.txt (line 3)) (1.4.1)\n",
            "Requirement already satisfied: tabulate>=0.5.0 in /usr/local/lib/python3.7/dist-packages (from -r requirements.txt (line 4)) (0.8.9)\n",
            "Requirement already satisfied: sortedcontainers<3.0,>=2.0 in /usr/local/lib/python3.7/dist-packages (from intervaltree>=3.0.0->-r requirements.txt (line 1)) (2.4.0)\n",
            "Building wheels for collected packages: intervaltree\n",
            "  Building wheel for intervaltree (setup.py) ... \u001b[?25l\u001b[?25hdone\n",
            "  Created wheel for intervaltree: filename=intervaltree-3.1.0-py2.py3-none-any.whl size=26119 sha256=896a15e34262e5ed51f8664527cb236e81e4bba51a03d416f7bbcc42c7288cb6\n",
            "  Stored in directory: /root/.cache/pip/wheels/16/85/bd/1001cbb46dcfb71c2001cd7401c6fb250392f22a81ce3722f7\n",
            "Successfully built intervaltree\n",
            "Installing collected packages: intervaltree\n",
            "  Attempting uninstall: intervaltree\n",
            "    Found existing installation: intervaltree 2.1.0\n",
            "    Uninstalling intervaltree-2.1.0:\n",
            "      Successfully uninstalled intervaltree-2.1.0\n",
            "Successfully installed intervaltree-3.1.0\n"
          ]
        }
      ]
    },
    {
      "cell_type": "markdown",
      "metadata": {
        "id": "XYIjrK6lpDEL"
      },
      "source": [
        "The script *score.py* takes one or several RTTM files for the reference and the system.\n",
        "\n",
        "Rich Transcription Time Marked (RTTM) files are space-delimited text files containing one turn per line, each line containing ten fields:\n",
        "\n",
        "Type -- segment type; should always by SPEAKER\n",
        "\n",
        "File ID -- file name; basename of the recording minus extension (e.g., rec1_a)\n",
        "\n",
        "Channel ID -- channel (1-indexed) that turn is on; should always be 1\n",
        "\n",
        "Turn Onset -- onset of turn in seconds from beginning of recording\n",
        "\n",
        "Turn Duration -- duration of turn in seconds\n",
        "\n",
        "Orthography Field -- should always be ```<NA>```\n",
        "\n",
        "Speaker Type -- should always be ```<NA>```\n",
        "\n",
        "Speaker Name -- name of speaker of turn; should be unique within scope of each file\n",
        "\n",
        "Confidence Score -- system confidence (probability) that information is correct; should always be ```<NA>```\n",
        "\n",
        "Signal Lookahead Time -- should always be ```<NA>```\n",
        "\n",
        "## Example\n",
        "```\n",
        "SPEAKER CMU_20020319-1400_d01_NONE 1 130.430000 2.350 <NA> <NA> juliet <NA> <NA>\n",
        "SPEAKER CMU_20020319-1400_d01_NONE 1 157.610000 3.060 <NA> <NA> tbc <NA> <NA>\n",
        "SPEAKER CMU_20020319-1400_d01_NONE 1 130.490000 0.450 <NA> <NA> chek <NA> <NA>\n",
        "```"
      ]
    },
    {
      "cell_type": "markdown",
      "metadata": {
        "id": "cGimHPSIq4ZU"
      },
      "source": [
        "You can then execute *score.py* with the reference files and the system files"
      ]
    },
    {
      "cell_type": "code",
      "metadata": {
        "id": "ASSGLS0tRqaD"
      },
      "source": [
        "%cd /content/dscore/"
      ],
      "execution_count": null,
      "outputs": []
    },
    {
      "cell_type": "code",
      "metadata": {
        "id": "2LsUHO6QsnXq"
      },
      "source": [
        "!python score.py -r ../CMU_20030109-1600.sdm.overlap.rttm -s ../out.rttm"
      ],
      "execution_count": null,
      "outputs": []
    },
    {
      "cell_type": "markdown",
      "metadata": {
        "id": "sEWdEC7BEDfY"
      },
      "source": [
        "# PyAnnote\n",
        "\n",
        "First, install PyAnnote with the following command:"
      ]
    },
    {
      "cell_type": "markdown",
      "metadata": {
        "id": "XljtU9rNgbMr"
      },
      "source": [
        "# New Section"
      ]
    },
    {
      "cell_type": "markdown",
      "metadata": {
        "id": "6as7TqAhXHHw"
      },
      "source": [
        "**Start to execute here: don't take into account the cells above (except for Resemblyzer)**"
      ]
    },
    {
      "cell_type": "code",
      "metadata": {
        "id": "pydj9jteEXTJ",
        "colab": {
          "base_uri": "https://localhost:8080/"
        },
        "outputId": "6cd9edfb-ad38-44b1-e3b0-133ff437ca68"
      },
      "source": [
        "!pip install pyannote.metrics"
      ],
      "execution_count": null,
      "outputs": [
        {
          "output_type": "stream",
          "name": "stdout",
          "text": [
            "Collecting pyannote.metrics\n",
            "  Downloading pyannote.metrics-3.1-py3-none-any.whl (49 kB)\n",
            "\u001b[?25l\r\u001b[K     |██████▊                         | 10 kB 24.5 MB/s eta 0:00:01\r\u001b[K     |█████████████▍                  | 20 kB 23.1 MB/s eta 0:00:01\r\u001b[K     |████████████████████            | 30 kB 16.6 MB/s eta 0:00:01\r\u001b[K     |██████████████████████████▊     | 40 kB 14.6 MB/s eta 0:00:01\r\u001b[K     |████████████████████████████████| 49 kB 3.5 MB/s \n",
            "\u001b[?25hRequirement already satisfied: sympy>=1.1 in /usr/local/lib/python3.7/dist-packages (from pyannote.metrics) (1.7.1)\n",
            "Collecting pyannote.core>=4.1\n",
            "  Downloading pyannote.core-4.3-py3-none-any.whl (59 kB)\n",
            "\u001b[K     |████████████████████████████████| 59 kB 8.9 MB/s \n",
            "\u001b[?25hCollecting pyannote.database>=4.0.1\n",
            "  Downloading pyannote.database-4.1.1-py3-none-any.whl (41 kB)\n",
            "\u001b[K     |████████████████████████████████| 41 kB 331 kB/s \n",
            "\u001b[?25hRequirement already satisfied: scikit-learn>=0.17.1 in /usr/local/lib/python3.7/dist-packages (from pyannote.metrics) (1.0.1)\n",
            "Requirement already satisfied: docopt>=0.6.2 in /usr/local/lib/python3.7/dist-packages (from pyannote.metrics) (0.6.2)\n",
            "Requirement already satisfied: scipy>=1.1.0 in /usr/local/lib/python3.7/dist-packages (from pyannote.metrics) (1.4.1)\n",
            "Requirement already satisfied: matplotlib>=2.0.0 in /usr/local/lib/python3.7/dist-packages (from pyannote.metrics) (3.2.2)\n",
            "Requirement already satisfied: pandas>=0.19 in /usr/local/lib/python3.7/dist-packages (from pyannote.metrics) (1.1.5)\n",
            "Requirement already satisfied: tabulate>=0.7.7 in /usr/local/lib/python3.7/dist-packages (from pyannote.metrics) (0.8.9)\n",
            "Requirement already satisfied: cycler>=0.10 in /usr/local/lib/python3.7/dist-packages (from matplotlib>=2.0.0->pyannote.metrics) (0.11.0)\n",
            "Requirement already satisfied: python-dateutil>=2.1 in /usr/local/lib/python3.7/dist-packages (from matplotlib>=2.0.0->pyannote.metrics) (2.8.2)\n",
            "Requirement already satisfied: kiwisolver>=1.0.1 in /usr/local/lib/python3.7/dist-packages (from matplotlib>=2.0.0->pyannote.metrics) (1.3.2)\n",
            "Requirement already satisfied: pyparsing!=2.0.4,!=2.1.2,!=2.1.6,>=2.0.1 in /usr/local/lib/python3.7/dist-packages (from matplotlib>=2.0.0->pyannote.metrics) (3.0.6)\n",
            "Requirement already satisfied: numpy>=1.11 in /usr/local/lib/python3.7/dist-packages (from matplotlib>=2.0.0->pyannote.metrics) (1.19.5)\n",
            "Requirement already satisfied: pytz>=2017.2 in /usr/local/lib/python3.7/dist-packages (from pandas>=0.19->pyannote.metrics) (2018.9)\n",
            "Requirement already satisfied: typing-extensions>=3.7.4.1 in /usr/local/lib/python3.7/dist-packages (from pyannote.core>=4.1->pyannote.metrics) (3.10.0.2)\n",
            "Collecting simplejson>=3.8.1\n",
            "  Downloading simplejson-3.17.6-cp37-cp37m-manylinux_2_5_x86_64.manylinux1_x86_64.manylinux_2_12_x86_64.manylinux2010_x86_64.whl (130 kB)\n",
            "\u001b[K     |████████████████████████████████| 130 kB 42.0 MB/s \n",
            "\u001b[?25hRequirement already satisfied: sortedcontainers>=2.0.4 in /usr/local/lib/python3.7/dist-packages (from pyannote.core>=4.1->pyannote.metrics) (2.4.0)\n",
            "Requirement already satisfied: pyYAML>=3.12 in /usr/local/lib/python3.7/dist-packages (from pyannote.database>=4.0.1->pyannote.metrics) (3.13)\n",
            "Collecting typer[all]>=0.2.1\n",
            "  Downloading typer-0.4.0-py3-none-any.whl (27 kB)\n",
            "Requirement already satisfied: six>=1.5 in /usr/local/lib/python3.7/dist-packages (from python-dateutil>=2.1->matplotlib>=2.0.0->pyannote.metrics) (1.15.0)\n",
            "Requirement already satisfied: threadpoolctl>=2.0.0 in /usr/local/lib/python3.7/dist-packages (from scikit-learn>=0.17.1->pyannote.metrics) (3.0.0)\n",
            "Requirement already satisfied: joblib>=0.11 in /usr/local/lib/python3.7/dist-packages (from scikit-learn>=0.17.1->pyannote.metrics) (1.1.0)\n",
            "Requirement already satisfied: mpmath>=0.19 in /usr/local/lib/python3.7/dist-packages (from sympy>=1.1->pyannote.metrics) (1.2.1)\n",
            "Requirement already satisfied: click<9.0.0,>=7.1.1 in /usr/local/lib/python3.7/dist-packages (from typer[all]>=0.2.1->pyannote.database>=4.0.1->pyannote.metrics) (7.1.2)\n",
            "Collecting colorama<0.5.0,>=0.4.3\n",
            "  Downloading colorama-0.4.4-py2.py3-none-any.whl (16 kB)\n",
            "Collecting shellingham<2.0.0,>=1.3.0\n",
            "  Downloading shellingham-1.4.0-py2.py3-none-any.whl (9.4 kB)\n",
            "Installing collected packages: typer, simplejson, shellingham, colorama, pyannote.core, pyannote.database, pyannote.metrics\n",
            "Successfully installed colorama-0.4.4 pyannote.core-4.3 pyannote.database-4.1.1 pyannote.metrics-3.1 shellingham-1.4.0 simplejson-3.17.6 typer-0.4.0\n"
          ]
        }
      ]
    },
    {
      "cell_type": "markdown",
      "metadata": {
        "id": "Hq3lBjcaH_eT"
      },
      "source": [
        "It seems that you have to add the segments directly in the code. The letters ```A```, ```B```, ```C``` and ```D``` identify the different speakers."
      ]
    },
    {
      "cell_type": "code",
      "metadata": {
        "id": "7VRrjvKWGR1z",
        "colab": {
          "base_uri": "https://localhost:8080/"
        },
        "outputId": "1f1f0acc-a3c2-4d59-f5b4-af502dafe8bb"
      },
      "source": [
        "metric = DiarizationErrorRate()\n",
        "metric(reference, hypothesis, detailed=True)"
      ],
      "execution_count": null,
      "outputs": [
        {
          "output_type": "stream",
          "name": "stderr",
          "text": [
            "/usr/local/lib/python3.7/dist-packages/pyannote/metrics/utils.py:184: UserWarning: 'uem' was approximated by the union of 'reference' and 'hypothesis' extents.\n",
            "  \"'uem' was approximated by the union of 'reference' \"\n"
          ]
        },
        {
          "output_type": "execute_result",
          "data": {
            "text/plain": [
              "{'confusion': 7.0,\n",
              " 'correct': 22.0,\n",
              " 'diarization error rate': 0.5161290322580645,\n",
              " 'false alarm': 7.0,\n",
              " 'missed detection': 2.0,\n",
              " 'total': 31.0}"
            ]
          },
          "metadata": {},
          "execution_count": 18
        }
      ]
    },
    {
      "cell_type": "code",
      "metadata": {
        "id": "cKumgUFrUsX8"
      },
      "source": [
        "import librosa\n",
        "import librosa.display # You need this in librosa to be able to plot\n",
        "import os, sys, glob\n",
        "import matplotlib.pyplot as plt\n",
        "from pathlib import Path\n",
        "import numpy as np\n",
        "\n",
        "#give the file path to your audio file\n",
        "audio_file_path = '/content/CMU/*'\n",
        "clip_dir=glob.glob(audio_file_path)"
      ],
      "execution_count": null,
      "outputs": []
    },
    {
      "cell_type": "code",
      "metadata": {
        "id": "qfCfiDkWys65",
        "colab": {
          "base_uri": "https://localhost:8080/"
        },
        "outputId": "dbcac5df-9286-4538-a357-6efa49917f13"
      },
      "source": [
        "!pip install spectralcluster"
      ],
      "execution_count": null,
      "outputs": [
        {
          "output_type": "stream",
          "name": "stdout",
          "text": [
            "Collecting spectralcluster\n",
            "  Downloading spectralcluster-0.2.4-py3-none-any.whl (22 kB)\n",
            "Installing collected packages: spectralcluster\n",
            "Successfully installed spectralcluster-0.2.4\n"
          ]
        }
      ]
    },
    {
      "cell_type": "code",
      "metadata": {
        "id": "v0oDC_a434Lx"
      },
      "source": [
        "from spectralcluster import SpectralClusterer\n",
        "\n",
        "clusterer = SpectralClusterer(\n",
        "    min_clusters=2,\n",
        "    max_clusters=7,\n",
        "    autotune=None,\n",
        "    laplacian_type=None,\n",
        "    refinement_options=None,\n",
        "    custom_dist=\"cosine\")\n",
        "\n"
      ],
      "execution_count": null,
      "outputs": []
    },
    {
      "cell_type": "code",
      "metadata": {
        "id": "AkYneKYb13RE"
      },
      "source": [
        "def create_labelling(labels,wav_splits, prefix=\"\", output_file_name=\"/content/labelling.txt\"):\n",
        "    from resemblyzer import sampling_rate\n",
        "    times = [((s.start + s.stop) / 2) / sampling_rate for s in wav_splits]\n",
        "    start_time = 0\n",
        "    with open(output_file_name, 'a+') as f_out:\n",
        "        for i,time in enumerate(times):\n",
        "            if i>0 and labels[i]!=labels[i-1]:\n",
        "                temp = [prefix + str(labels[i-1]),start_time,time]\n",
        "                f_out.write(\"{} {} {}\\n\".format(temp[0], temp[1], temp[2]))\n",
        "                start_time = time\n",
        "            if i==len(times)-1:\n",
        "                temp = [prefix + str(labels[i]),start_time,time]\n",
        "                f_out.write(\"{} {} {}\\n\".format(temp[0], temp[1], temp[2]))\n",
        "\n",
        "  "
      ],
      "execution_count": null,
      "outputs": []
    },
    {
      "cell_type": "code",
      "metadata": {
        "id": "P2u8SS3i1a-q",
        "colab": {
          "base_uri": "https://localhost:8080/"
        },
        "outputId": "d0f869aa-e7a0-42be-93a3-f11523c4d6a3"
      },
      "source": [
        "%cd Resemblyzer/"
      ],
      "execution_count": null,
      "outputs": [
        {
          "output_type": "stream",
          "name": "stdout",
          "text": [
            "/content/Resemblyzer\n"
          ]
        }
      ]
    },
    {
      "cell_type": "code",
      "metadata": {
        "id": "k-aXx9R4qRkG"
      },
      "source": [
        "def labelling_to_rttm(input_file, output_file):\n",
        "    with open(input_file, 'r') as f_in:\n",
        "        with open(output_file, 'a+') as f_out:\n",
        "            lines = f_in.readlines()\n",
        "            for l in lines:\n",
        "                fields = l.split(' ')\n",
        "                if len(fields) == 3:\n",
        "                    speaker = fields[0]\n",
        "                    turn_onset = float(fields[1])\n",
        "                    turn_duration = float(fields[2][:-1]) - turn_onset\n",
        "                    output_line = \"SPEAKER {} 1 {:.3f} {:.3f} <NA> <NA> {} <NA> <NA>\".format(speaker, turn_onset, turn_duration, speaker)\n",
        "                    f_out.write(output_line + \"\\n\")"
      ],
      "execution_count": null,
      "outputs": []
    },
    {
      "cell_type": "code",
      "metadata": {
        "id": "2tLSz83DcFHu"
      },
      "source": [
        ""
      ],
      "execution_count": null,
      "outputs": []
    },
    {
      "cell_type": "code",
      "metadata": {
        "id": "VajUHXADZfma"
      },
      "source": [
        "def time_labelling_to_rttm(input_file, output_file):\n",
        "    with open(input_file, 'r') as f_in:\n",
        "        with open(output_file, 'a+') as f_out:\n",
        "            lines = f_in.readlines()\n",
        "            for l in lines:\n",
        "                fields = l.split()\n",
        "                print(fields)\n",
        "                if len(fields) == 3:\n",
        "                    print(fields)\n",
        "                    speaker = fields[0]\n",
        "                    turn_onset= (datetime.datetime.strptime((fields[1]).strip().replace('\\n',''),\"%H:%M:%S,%f\") - datetime.datetime(1900, 1, 1)).total_seconds()\n",
        "                    #turn_onset = float(fields[1])\n",
        "                    print(turn_onset)\n",
        "                    turn_duration = (datetime.datetime.strptime((fields[2]).strip().replace('\\n',''),\"%H:%M:%S,%f\") - datetime.datetime(1900, 1, 1)).total_seconds() -turn_onset\n",
        "                    #turn_onset =- turn_onset\n",
        "                    output_line = \"SPEAKER {} 1 {:.3f} {:.3f} <NA> <NA> {} <NA> <NA>\".format(speaker, turn_onset, turn_duration, speaker)\n",
        "                    f_out.write(output_line + \"\\n\")"
      ],
      "execution_count": null,
      "outputs": []
    },
    {
      "cell_type": "code",
      "metadata": {
        "colab": {
          "base_uri": "https://localhost:8080/"
        },
        "id": "o20EvMmUcGLL",
        "outputId": "994d8dd8-f194-493a-b0a7-5ad502ffc0fb"
      },
      "source": [
        "time_labelling_to_rttm(\"annotation\", \"/content/out.rttm\")"
      ],
      "execution_count": null,
      "outputs": [
        {
          "output_type": "stream",
          "name": "stdout",
          "text": [
            "['Speaker1', '00:00:00,630', '00:00:07,020']\n",
            "['Speaker1', '00:00:00,630', '00:00:07,020']\n",
            "0.63\n",
            "['Speaker1', '00:00:09,719', '00:00:15,449']\n",
            "['Speaker1', '00:00:09,719', '00:00:15,449']\n",
            "9.719\n",
            "['Speaker1', '00:00:16,560', '00:00:36,630']\n",
            "['Speaker1', '00:00:16,560', '00:00:36,630']\n",
            "16.56\n",
            "['Speaker2', '00:00:42,810', '00:00:46,290']\n",
            "['Speaker2', '00:00:42,810', '00:00:46,290']\n",
            "42.81\n",
            "['Speaker2', '00:00:51,300', '00:01:01,020']\n",
            "['Speaker2', '00:00:51,300', '00:01:01,020']\n",
            "51.3\n",
            "['Speaker2', '00:00:55,830', '00:01:01,020']\n",
            "['Speaker2', '00:00:55,830', '00:01:01,020']\n",
            "55.83\n",
            "['Speaker2', '00:01:03,180', '00:01:07,050']\n",
            "['Speaker2', '00:01:03,180', '00:01:07,050']\n",
            "63.18\n",
            "['Speaker2', '00:01:09,780', '0:01:24,180']\n",
            "['Speaker2', '00:01:09,780', '0:01:24,180']\n",
            "69.78\n",
            "['Speaker2', '00:01:24,180', '00:01:58,290']\n",
            "['Speaker2', '00:01:24,180', '00:01:58,290']\n",
            "84.18\n",
            "['Speaker3', '00:01:58,290', '00:02:01,740']\n",
            "['Speaker3', '00:01:58,290', '00:02:01,740']\n",
            "118.29\n",
            "['Speaker3', '00:02:01,740', '00:02:02,760']\n",
            "['Speaker3', '00:02:01,740', '00:02:02,760']\n",
            "121.74\n",
            "['Speaker2', '00:02:04,170', '00:02:07,800']\n",
            "['Speaker2', '00:02:04,170', '00:02:07,800']\n",
            "124.17\n",
            "['Speaker3', '00:02:07,800', '00:02:11,220']\n",
            "['Speaker3', '00:02:07,800', '00:02:11,220']\n",
            "127.8\n",
            "['Speaker3', '00:02:11,220', '00:02:14,430']\n",
            "['Speaker3', '00:02:11,220', '00:02:14,430']\n",
            "131.22\n",
            "['Speaker3', '00:02:18,600', '00:02:22,140']\n",
            "['Speaker3', '00:02:18,600', '00:02:22,140']\n",
            "138.6\n",
            "['Speaker1', '00:02:22,170', '00:02:30,630']\n",
            "['Speaker1', '00:02:22,170', '00:02:30,630']\n",
            "142.17\n",
            "['Speaker2', '00:02:30,630', '00:02:34,290']\n",
            "['Speaker2', '00:02:30,630', '00:02:34,290']\n",
            "150.63\n",
            "['Speaker2', '00:02:35,670', '00:02:38,220']\n",
            "['Speaker2', '00:02:35,670', '00:02:38,220']\n",
            "155.67\n",
            "['Speaker3', '00:02:38,220', '00:02:56,730']\n",
            "['Speaker3', '00:02:38,220', '00:02:56,730']\n",
            "158.22\n",
            "['Speaker2', '00:02:56,850', '00:03:13,020']\n",
            "['Speaker2', '00:02:56,850', '00:03:13,020']\n",
            "176.85\n",
            "['Speaker1', '00:03:14,190', '00:04:03,810']\n",
            "['Speaker1', '00:03:14,190', '00:04:03,810']\n",
            "194.19\n",
            "['Speaker2', '00:04:03,810', '00:04:26,340']\n",
            "['Speaker2', '00:04:03,810', '00:04:26,340']\n",
            "243.81\n",
            "['Speaker1', '00:04:26,340', '00:04:29,460']\n",
            "['Speaker1', '00:04:26,340', '00:04:29,460']\n",
            "266.34\n",
            "['Speaker1', '00:04:29,460', '00:04:35,850']\n",
            "['Speaker1', '00:04:29,460', '00:04:35,850']\n",
            "269.46\n",
            "['Speaker2', '00:04:35,850', '00:05:15,450']\n",
            "['Speaker2', '00:04:35,850', '00:05:15,450']\n",
            "275.85\n",
            "['Speaker3', '00:05:16,470', '00:05:32,730']\n",
            "['Speaker3', '00:05:16,470', '00:05:32,730']\n",
            "316.47\n",
            "['Speaker2', '00:05:32,820', '00:05:46,170']\n",
            "['Speaker2', '00:05:32,820', '00:05:46,170']\n",
            "332.82\n",
            "['Speaker3', '00:05:46,170', '00:05:49,560']\n",
            "['Speaker3', '00:05:46,170', '00:05:49,560']\n",
            "346.17\n",
            "['Speaker1', '0:05:49,560', '00:06:02,670']\n",
            "['Speaker1', '0:05:49,560', '00:06:02,670']\n",
            "349.56\n",
            "['Speaker1', '00:06:02,670', '00:06:45,330']\n",
            "['Speaker1', '00:06:02,670', '00:06:45,330']\n",
            "362.67\n",
            "['Speaker3', '00:06:45,330', '00:06:52,560']\n",
            "['Speaker3', '00:06:45,330', '00:06:52,560']\n",
            "405.33\n"
          ]
        }
      ]
    },
    {
      "cell_type": "code",
      "metadata": {
        "id": "v7L9H7MAcGki"
      },
      "source": [
        ""
      ],
      "execution_count": null,
      "outputs": []
    },
    {
      "cell_type": "code",
      "metadata": {
        "colab": {
          "base_uri": "https://localhost:8080/",
          "height": 35
        },
        "id": "HHaiyMqgbPR9",
        "outputId": "8a0f55cd-089e-4ead-f744-acfda72b6cd1"
      },
      "source": [
        "'ffggg\\n'.strip()"
      ],
      "execution_count": null,
      "outputs": [
        {
          "output_type": "execute_result",
          "data": {
            "application/vnd.google.colaboratory.intrinsic+json": {
              "type": "string"
            },
            "text/plain": [
              "'ffggg'"
            ]
          },
          "metadata": {},
          "execution_count": 35
        }
      ]
    },
    {
      "cell_type": "code",
      "metadata": {
        "id": "uMw1U0Yj_dfg",
        "colab": {
          "base_uri": "https://localhost:8080/"
        },
        "outputId": "0a28134b-90a0-4a87-ea7f-2545128569ed"
      },
      "source": [
        "%cd Resemblyzer/"
      ],
      "execution_count": null,
      "outputs": [
        {
          "output_type": "stream",
          "name": "stdout",
          "text": [
            "[Errno 2] No such file or directory: 'Resemblyzer/'\n",
            "/content/Resemblyzer\n"
          ]
        }
      ]
    },
    {
      "cell_type": "code",
      "metadata": {
        "colab": {
          "base_uri": "https://localhost:8080/"
        },
        "id": "Fc_tLIcmh-nn",
        "outputId": "844286cb-0a9c-4335-bdd5-e70afe90b61b"
      },
      "source": [
        "help(\"spectralcluster.SpectralClusterer.predict\")"
      ],
      "execution_count": null,
      "outputs": [
        {
          "output_type": "stream",
          "name": "stdout",
          "text": [
            "Help on function predict in spectralcluster.SpectralClusterer:\n",
            "\n",
            "spectralcluster.SpectralClusterer.predict = predict(self, embeddings, constraint_matrix=None)\n",
            "    Perform spectral clustering on data embeddings.\n",
            "    \n",
            "    The spectral clustering is performed on an affinity matrix.\n",
            "    \n",
            "    Args:\n",
            "      embeddings: numpy array of shape (n_samples, n_features)\n",
            "      constraint_matrix: numpy array of shape (n_samples, n_samples). The\n",
            "        constraint matrix with prior information\n",
            "    \n",
            "    Returns:\n",
            "      labels: numpy array of shape (n_samples,)\n",
            "    \n",
            "    Raises:\n",
            "      TypeError: if embeddings has wrong type\n",
            "      ValueError: if embeddings has wrong shape\n",
            "\n"
          ]
        }
      ]
    },
    {
      "cell_type": "code",
      "metadata": {
        "colab": {
          "base_uri": "https://localhost:8080/"
        },
        "id": "UQAazJ9Ywb2u",
        "outputId": "94715360-ff6a-4d94-d004-ea518402387d"
      },
      "source": [
        "%cd ./Resemblyzer/"
      ],
      "execution_count": null,
      "outputs": [
        {
          "output_type": "stream",
          "name": "stdout",
          "text": [
            "[Errno 2] No such file or directory: './Resemblyzer/'\n",
            "/content/Resemblyzer\n"
          ]
        }
      ]
    },
    {
      "cell_type": "code",
      "metadata": {
        "id": "b-mYrh6upuBn",
        "colab": {
          "base_uri": "https://localhost:8080/"
        },
        "outputId": "6c6a2c57-c9f6-431c-ee89-6e4192a27ef1"
      },
      "source": [
        "from spectralcluster import SpectralClusterer\n",
        "from resemblyzer import preprocess_wav, VoiceEncoder\n",
        "from pathlib import Path\n",
        "import os\n",
        "#print(\"fff\")\n",
        "#print(wav_fpath)\n",
        "\n",
        "\n",
        "clip_dir = '/content/new/' \n",
        "# list of files in clip_dir\n",
        "list_files = [f for f in os.listdir(clip_dir) if not f.startswith('.')]\n",
        "utterance_spec=[]\n",
        "total_labelling = []\n",
        "for idx,showName in enumerate(list_files):\n",
        "    base, ext = os.path.splitext(showName)\n",
        "    path = os.path.join(clip_dir, showName)\n",
        "    wav = preprocess_wav(path)\n",
        "    utterance_spec.append(wav)\n",
        "    encoder = VoiceEncoder(\"cpu\")\n",
        "    _, cont_embeds, wav_splits = encoder.embed_utterance(wav, return_partials=True, rate=16)\n",
        "    print(cont_embeds.shape)\n",
        "\n",
        "    clusterer = SpectralClusterer(\n",
        "        min_clusters=3,\n",
        "        max_clusters=7,\n",
        "        autotune=None,\n",
        "        laplacian_type=None,\n",
        "        refinement_options=None,\n",
        "        custom_dist=\"cosine\"\n",
        "    )\n",
        "    labels = clusterer.predict(cont_embeds)\n",
        "    create_labelling(labels, wav_splits, prefix=base)\n",
        "    print('Lablling created for {}'.format(showName))\n",
        "    del wav, encoder, cont_embeds, wav_splits, clusterer, labels\n",
        "\n",
        "#utterance_spec = np.array(utterance_spec)\n"
      ],
      "execution_count": null,
      "outputs": [
        {
          "output_type": "stream",
          "name": "stdout",
          "text": [
            "Loaded the voice encoder model on cpu in 0.01 seconds.\n",
            "(3417, 256)\n",
            "Lablling created for extract.wav\n"
          ]
        }
      ]
    },
    {
      "cell_type": "code",
      "metadata": {
        "id": "nPZ6s1TsBn-O"
      },
      "source": [
        "labelling_to_rttm(\"/content/labelling.txt\", \"/content/out.rttm\")"
      ],
      "execution_count": null,
      "outputs": []
    },
    {
      "cell_type": "code",
      "metadata": {
        "id": "u7pXRmqfGSFU",
        "colab": {
          "base_uri": "https://localhost:8080/"
        },
        "outputId": "7ae2eb68-d96c-4496-9b2a-8b4b798d953c"
      },
      "source": [
        "from pyannote.core import Segment, Timeline, Annotation\n",
        "from pyannote.metrics.diarization import DiarizationErrorRate\n",
        "\n",
        "#speaker=['A','B','C','D','E']\n",
        "def annotate(path, uri='file1'):\n",
        "    res = Annotation(uri=uri)\n",
        "    \n",
        "    with open(path, \"r\") as f:\n",
        "        # current speaker in the reference\n",
        "        current_speaker_ref = ''\n",
        "        # current begin time\n",
        "        current_begin = 0\n",
        "        # current end time\n",
        "        current_end = 0\n",
        "        rttmspeaker=dict()\n",
        "        lines = f.readlines()\n",
        "        for index, l in enumerate(lines):\n",
        "            # for each line, we check whether the line starts with SPEAKER\n",
        "            if l.startswith('SPEAKER'):\n",
        "                num=0\n",
        "                currentspeaker=0\n",
        "                fields = l.split(' ')\n",
        "                if len(l) > 7:\n",
        "                    speaker = fields[7]\n",
        "                    if speaker not in rttmspeaker.keys():\n",
        "                      rttmspeaker[speaker]=num\n",
        "                      num=num+1\n",
        "                    else:\n",
        "                     currentspeaker= rttmspeaker[speaker]\n",
        "\n",
        "                    start = float(fields[3])\n",
        "                    end = start + float(fields[4]) # end = start + duration\n",
        "                    #if speaker == current_speaker_ref and index < len(lines)-1:\n",
        "                    #    current_end = end\n",
        "                    #elif current_speaker_ref == '':\n",
        "                    #    current_speaker_ref = speaker\n",
        "                    #   current_begin = start\n",
        "                    #    current_end = end\n",
        "                    #else:\n",
        "                    print(str(start)+ ' ' + str(end)+ ' '+str(speaker))\n",
        "                    res[Segment(start, end)] = speaker\n",
        "    return res\n",
        "\n",
        "reference = annotate(\"/content/out.rttm\")\n",
        "#reference = annotate(\"/content/CMU_20030109-1530.mdm.overlap.rttm\")\n",
        "#hypothesis = annotate(\"/content/out.rttm\")"
      ],
      "execution_count": null,
      "outputs": [
        {
          "output_type": "stream",
          "name": "stdout",
          "text": [
            "0.63 7.02 Speaker1\n",
            "9.719 15.449 Speaker1\n",
            "16.56 36.629999999999995 Speaker1\n",
            "42.81 46.29 Speaker2\n",
            "51.3 61.019999999999996 Speaker2\n",
            "55.83 61.019999999999996 Speaker2\n",
            "63.18 67.05 Speaker2\n",
            "69.78 84.18 Speaker2\n",
            "84.18 118.29 Speaker2\n",
            "118.29 121.74000000000001 Speaker3\n",
            "121.74 122.75999999999999 Speaker3\n",
            "124.17 127.8 Speaker2\n",
            "127.8 131.22 Speaker3\n",
            "131.22 134.43 Speaker3\n",
            "138.6 142.14 Speaker3\n",
            "142.17 150.63 Speaker1\n",
            "150.63 154.29 Speaker2\n",
            "155.67 158.22 Speaker2\n",
            "158.22 176.73 Speaker3\n",
            "176.85 193.01999999999998 Speaker2\n",
            "194.19 243.81 Speaker1\n",
            "243.81 266.34000000000003 Speaker2\n",
            "266.34 269.46 Speaker1\n",
            "269.46 275.84999999999997 Speaker1\n",
            "275.85 315.45000000000005 Speaker2\n",
            "316.47 332.73 Speaker3\n",
            "332.82 346.17 Speaker2\n",
            "346.17 349.56 Speaker3\n",
            "349.56 362.67 Speaker1\n",
            "362.67 405.33000000000004 Speaker1\n",
            "405.33 412.56 Speaker3\n"
          ]
        }
      ]
    },
    {
      "cell_type": "code",
      "metadata": {
        "colab": {
          "base_uri": "https://localhost:8080/",
          "height": 112
        },
        "id": "ZH8dHf9hASNM",
        "outputId": "3e142493-07be-40cb-f2cc-b05ce184428c"
      },
      "source": [
        "diarization"
      ],
      "execution_count": null,
      "outputs": [
        {
          "output_type": "execute_result",
          "data": {
            "image/png": "[encoded data removed]",
            "text/plain": [
              "<pyannote.core.annotation.Annotation at 0x7f7e103c8510>"
            ]
          },
          "metadata": {},
          "execution_count": 12
        }
      ]
    },
    {
      "cell_type": "code",
      "metadata": {
        "colab": {
          "base_uri": "https://localhost:8080/"
        },
        "id": "7HB4h66pTHaz",
        "outputId": "5f5b7a69-1755-4959-c757-d8b97a9c2eaf"
      },
      "source": [
        "metric = DiarizationErrorRate()\n",
        "metric(reference, diarization, detailed=True)"
      ],
      "execution_count": null,
      "outputs": [
        {
          "output_type": "stream",
          "name": "stderr",
          "text": [
            "/usr/local/lib/python3.7/dist-packages/pyannote/metrics/utils.py:184: UserWarning:\n",
            "\n",
            "'uem' was approximated by the union of 'reference' and 'hypothesis' extents.\n",
            "\n"
          ]
        },
        {
          "output_type": "execute_result",
          "data": {
            "text/plain": [
              "{'confusion': 153.4279999999999,\n",
              " 'correct': 195.8082499999997,\n",
              " 'diarization error rate': 0.5600233021349015,\n",
              " 'false alarm': 25.16768749999996,\n",
              " 'missed detection': 38.603750000000225,\n",
              " 'total': 387.83999999999986}"
            ]
          },
          "metadata": {},
          "execution_count": 13
        }
      ]
    },
    {
      "cell_type": "code",
      "metadata": {
        "id": "nQk4hzXyg8Zc",
        "colab": {
          "base_uri": "https://localhost:8080/"
        },
        "outputId": "b0db8604-3a3d-4c02-d042-cba07f44941a"
      },
      "source": [
        "report = metric.report(display=True)"
      ],
      "execution_count": null,
      "outputs": [
        {
          "output_type": "stream",
          "name": "stdout",
          "text": [
            "      diarization error rate  total correct correct false alarm false alarm missed detection missed detection confusion confusion\n",
            "                           %                      %                       %                                 %                   %\n",
            "item                                                                                                                             \n",
            "file1                  54.67 905.88  556.70   61.45      146.07       16.13           287.68            31.76     61.50      6.79\n",
            "TOTAL                  54.67 905.88  556.70   61.45      146.07       16.13           287.68            31.76     61.50      6.79\n"
          ]
        }
      ]
    },
    {
      "cell_type": "code",
      "metadata": {
        "id": "KBUN5vnKl0TJ",
        "colab": {
          "base_uri": "https://localhost:8080/"
        },
        "outputId": "f2ee359f-c717-453d-8192-7d30c2457e3c"
      },
      "source": [
        "report = metric.report(display=True)"
      ],
      "execution_count": null,
      "outputs": [
        {
          "output_type": "stream",
          "name": "stdout",
          "text": [
            "      diarization error rate  total correct correct false alarm false alarm missed detection missed detection confusion confusion\n",
            "                           %                      %                       %                                 %                   %\n",
            "item                                                                                                                             \n",
            "file1                  56.00 387.84  195.81   50.49       25.17        6.49            38.60             9.95    153.43     39.56\n",
            "TOTAL                  56.00 387.84  195.81   50.49       25.17        6.49            38.60             9.95    153.43     39.56\n"
          ]
        }
      ]
    },
    {
      "cell_type": "code",
      "metadata": {
        "colab": {
          "base_uri": "https://localhost:8080/"
        },
        "id": "o9tXO497wKkd",
        "outputId": "1a6316ce-6b47-41a6-9229-99a85b7aaa1a"
      },
      "source": [
        "!pip install ffmpeg-python"
      ],
      "execution_count": null,
      "outputs": [
        {
          "output_type": "stream",
          "name": "stdout",
          "text": [
            "Collecting ffmpeg-python\n",
            "  Downloading ffmpeg_python-0.2.0-py3-none-any.whl (25 kB)\n",
            "Requirement already satisfied: future in /usr/local/lib/python3.7/dist-packages (from ffmpeg-python) (0.16.0)\n",
            "Installing collected packages: ffmpeg-python\n",
            "Successfully installed ffmpeg-python-0.2.0\n"
          ]
        }
      ]
    },
    {
      "cell_type": "code",
      "metadata": {
        "id": "a04NyfabWd0V"
      },
      "source": [
        "time_labelling_to_rttm(\"annotation\", \"/content/out.rttm\")"
      ],
      "execution_count": null,
      "outputs": []
    },
    {
      "cell_type": "code",
      "metadata": {
        "id": "kGQU-Pm5Yfl3"
      },
      "source": [
        "import datetime"
      ],
      "execution_count": null,
      "outputs": []
    },
    {
      "cell_type": "code",
      "metadata": {
        "id": "UzxlDT8mWy9r"
      },
      "source": [
        "date_time=datetime.datetime.strptime('00:00:55,830',\"%H:%M:%S,%f\")\n",
        "a_timedelta = date_time - datetime.datetime(1900, 1, 1)\n",
        "seconds = a_timedelta.total_seconds()"
      ],
      "execution_count": null,
      "outputs": []
    },
    {
      "cell_type": "code",
      "metadata": {
        "id": "sgEkFPYxZZG1"
      },
      "source": [
        ""
      ],
      "execution_count": null,
      "outputs": []
    },
    {
      "cell_type": "code",
      "metadata": {
        "colab": {
          "base_uri": "https://localhost:8080/"
        },
        "id": "con40fu3ZRPB",
        "outputId": "eb0424a5-9749-4502-ca9d-21857e588be5"
      },
      "source": [
        "seconds"
      ],
      "execution_count": null,
      "outputs": [
        {
          "output_type": "execute_result",
          "data": {
            "text/plain": [
              "55.83"
            ]
          },
          "metadata": {},
          "execution_count": 19
        }
      ]
    },
    {
      "cell_type": "markdown",
      "metadata": {
        "id": "7sAnT0n2GTpP"
      },
      "source": [
        "https://github.com/kaldi-asr/kaldi/blob/master/egs/wsj/s5/steps/segmentation/convert_utt2spk_and_segments_to_rttm.py"
      ]
    },
    {
      "cell_type": "code",
      "metadata": {
        "id": "12GmWG8-WMGE",
        "colab": {
          "base_uri": "https://localhost:8080/"
        },
        "outputId": "b387a9a9-36b2-494f-f341-f02c0d80398f"
      },
      "source": [
        "import ffmpeg\n",
        "input = ffmpeg.input('/content/nashnote.mp3')\n",
        "audio_trim = input.audio.filter('atrim', start=0, end=410)\n",
        "output = ffmpeg.output(audio_trim, \"/content/extract.wav\")\n",
        "output.run(capture_stdout=True, capture_stderr=True, overwrite_output=True)\n"
      ],
      "execution_count": null,
      "outputs": [
        {
          "output_type": "execute_result",
          "data": {
            "text/plain": [
              "(b'',\n",
              " b\"ffmpeg version 3.4.8-0ubuntu0.2 Copyright (c) 2000-2020 the FFmpeg developers\\n  built with gcc 7 (Ubuntu 7.5.0-3ubuntu1~18.04)\\n  configuration: --prefix=/usr --extra-version=0ubuntu0.2 --toolchain=hardened --libdir=/usr/lib/x86_64-linux-gnu --incdir=/usr/include/x86_64-linux-gnu --enable-gpl --disable-stripping --enable-avresample --enable-avisynth --enable-gnutls --enable-ladspa --enable-libass --enable-libbluray --enable-libbs2b --enable-libcaca --enable-libcdio --enable-libflite --enable-libfontconfig --enable-libfreetype --enable-libfribidi --enable-libgme --enable-libgsm --enable-libmp3lame --enable-libmysofa --enable-libopenjpeg --enable-libopenmpt --enable-libopus --enable-libpulse --enable-librubberband --enable-librsvg --enable-libshine --enable-libsnappy --enable-libsoxr --enable-libspeex --enable-libssh --enable-libtheora --enable-libtwolame --enable-libvorbis --enable-libvpx --enable-libwavpack --enable-libwebp --enable-libx265 --enable-libxml2 --enable-libxvid --enable-libzmq --enable-libzvbi --enable-omx --enable-openal --enable-opengl --enable-sdl2 --enable-libdc1394 --enable-libdrm --enable-libiec61883 --enable-chromaprint --enable-frei0r --enable-libopencv --enable-libx264 --enable-shared\\n  libavutil      55. 78.100 / 55. 78.100\\n  libavcodec     57.107.100 / 57.107.100\\n  libavformat    57. 83.100 / 57. 83.100\\n  libavdevice    57. 10.100 / 57. 10.100\\n  libavfilter     6.107.100 /  6.107.100\\n  libavresample   3.  7.  0 /  3.  7.  0\\n  libswscale      4.  8.100 /  4.  8.100\\n  libswresample   2.  9.100 /  2.  9.100\\n  libpostproc    54.  7.100 / 54.  7.100\\n[mp3 @ 0x563d832c6000] Estimating duration from bitrate, this may be inaccurate\\nInput #0, mp3, from '/content/nashnote.mp3':\\n  Metadata:\\n    title           : PC20-49-2021-08-06\\n    TIT3            : BOTG\\n    album           : Podcasting 2.0\\n    artist          : Adam Curry & Dave Jones\\n    comment         : Podcasting 2.0 for August 6th 2021 Episode 49: BOTG \\n                    : Adam & Dave discuss the week's developments on podcastindex.org live from Podcast Movement in Nashville Tennessee and we're joined by Renowned Industry Expert Daniel J Lewis \\n                    : I'm Adam Curry in the He...\\n    lyrics-eng      : Podcasting 2.0 for August 6th 2021 Episode 49: BOTG \\n                    : Adam & Dave discuss the week's developments on podcastindex.org live from Podcast Movement in Nashville Tennessee and we're joined by Renowned Industry Expert Daniel J Lewis \\n                    : I'm Adam Curry in the Heart of Hill Country Texas \\n                    : And In Nashville Tennessee, The True Live Music Capitol of the World - My Friend on the Other End -- Dave Jones! \\n                    : Crank those value sliders up on any of these value4value streaming payment apps: \\n                    : Breez app \\n                    : CurioCaster \\n                    : Fountain.FM \\n                    : Podfriend \\n                    : Podstation Browser extension \\n                    : Podverse \\n                    : Sphinx Chat App \\n                    : Value4Value.io Explains how this works! \\n                    : Download the mp3 \\n                    : Podcast Feed \\n                    : PodcastIndex.org \\n                    : Preservepodcasting.com \\n                    : Check out the podcasting 2.0 apps and services newpodcastapps.com \\n                    : Support us with your Time Talent and Treasure \\n                    : ShowNotes \\n                    : Daniel J Lewis \\n                    : Podcasting advocate and educator, award-winning host of The Audacity to Podcast, creator of My Podcast Reviews, curator of Podcast Industry Insights. \\n                    : Boostagram \\n                    : Fast Follow \\n                    : \\n    composer        : Podcast Index LLC\\n    track           : 49\\n    encoded_by      : Hindenburg Journalist Pro 1.86.2380\\n    genre           : Podcast\\n    copyright       : 2020-2021 Podcast Index LLC\\n    date            : 2021\\n  Duration: 01:10:19.83, start: 0.000000, bitrate: 96 kb/s\\n    Stream #0:0: Audio: mp3, 44100 Hz, stereo, s16p, 96 kb/s\\n    Stream #0:1: Video: mjpeg, yuvj420p(pc, bt470bg/unknown/unknown), 300x300 [SAR 1:1 DAR 1:1], 90k tbr, 90k tbn, 90k tbc\\n    Metadata:\\n      title           : Image\\n      comment         : Other\\nStream mapping:\\n  Stream #0:0 (mp3) -> atrim\\n  atrim -> Stream #0:0 (pcm_s16le)\\nPress [q] to stop, [?] for help\\nOutput #0, wav, to '/content/extract.wav':\\n  Metadata:\\n    INAM            : PC20-49-2021-08-06\\n    TIT3            : BOTG\\n    IPRD            : Podcasting 2.0\\n    IART            : Adam Curry & Dave Jones\\n    ICMT            : Podcasting 2.0 for August 6th 2021 Episode 49: BOTG \\n                    : Adam & Dave discuss the week's developments on podcastindex.org live from Podcast Movement in Nashville Tennessee and we're joined by Renowned Industry Expert Daniel J Lewis \\n                    : I'm Adam Curry in the He...\\n    lyrics-eng      : Podcasting 2.0 for August 6th 2021 Episode 49: BOTG \\n                    : Adam & Dave discuss the week's developments on podcastindex.org live from Podcast Movement in Nashville Tennessee and we're joined by Renowned Industry Expert Daniel J Lewis \\n                    : I'm Adam Curry in the Heart of Hill Country Texas \\n                    : And In Nashville Tennessee, The True Live Music Capitol of the World - My Friend on the Other End -- Dave Jones! \\n                    : Crank those value sliders up on any of these value4value streaming payment apps: \\n                    : Breez app \\n                    : CurioCaster \\n                    : Fountain.FM \\n                    : Podfriend \\n                    : Podstation Browser extension \\n                    : Podverse \\n                    : Sphinx Chat App \\n                    : Value4Value.io Explains how this works! \\n                    : Download the mp3 \\n                    : Podcast Feed \\n                    : PodcastIndex.org \\n                    : Preservepodcasting.com \\n                    : Check out the podcasting 2.0 apps and services newpodcastapps.com \\n                    : Support us with your Time Talent and Treasure \\n                    : ShowNotes \\n                    : Daniel J Lewis \\n                    : Podcasting advocate and educator, award-winning host of The Audacity to Podcast, creator of My Podcast Reviews, curator of Podcast Industry Insights. \\n                    : Boostagram \\n                    : Fast Follow \\n                    : \\n    composer        : Podcast Index LLC\\n    IPRT            : 49\\n    ITCH            : Hindenburg Journalist Pro 1.86.2380\\n    IGNR            : Podcast\\n    ICOP            : 2020-2021 Podcast Index LLC\\n    ICRD            : 2021\\n    ISFT            : Lavf57.83.100\\n    Stream #0:0: Audio: pcm_s16le ([1][0][0][0] / 0x0001), 44100 Hz, stereo, s16, 1411 kb/s\\n    Metadata:\\n      encoder         : Lavc57.107.100 pcm_s16le\\nsize=   35329kB time=00:03:25.29 bitrate=1409.7kbits/s speed= 411x    \\rsize=   70629kB time=00:06:50.00 bitrate=1411.2kbits/s speed= 413x    \\nvideo:0kB audio:70629kB subtitle:0kB other streams:0kB global headers:0kB muxing overhead: 0.000758%\\n\")"
            ]
          },
          "metadata": {},
          "execution_count": 45
        }
      ]
    },
    {
      "cell_type": "code",
      "metadata": {
        "id": "0HljrzRMDBw6"
      },
      "source": [
        "pip install pyannote.audio==1.1.1"
      ],
      "execution_count": null,
      "outputs": []
    },
    {
      "cell_type": "code",
      "metadata": {
        "colab": {
          "base_uri": "https://localhost:8080/"
        },
        "id": "BwL5NRVWeD1J",
        "outputId": "5d0d5212-7279-4175-fb69-db7e1998854c"
      },
      "source": [
        "pip install pyannote.core"
      ],
      "execution_count": null,
      "outputs": [
        {
          "output_type": "stream",
          "name": "stdout",
          "text": [
            "Requirement already satisfied: pyannote.core in /usr/local/lib/python3.7/dist-packages (4.3)\n",
            "Requirement already satisfied: numpy>=1.10.4 in /usr/local/lib/python3.7/dist-packages (from pyannote.core) (1.19.5)\n",
            "Requirement already satisfied: simplejson>=3.8.1 in /usr/local/lib/python3.7/dist-packages (from pyannote.core) (3.17.6)\n",
            "Requirement already satisfied: scipy>=1.1 in /usr/local/lib/python3.7/dist-packages (from pyannote.core) (1.4.1)\n",
            "Requirement already satisfied: sortedcontainers>=2.0.4 in /usr/local/lib/python3.7/dist-packages (from pyannote.core) (2.4.0)\n",
            "Requirement already satisfied: typing-extensions>=3.7.4.1 in /usr/local/lib/python3.7/dist-packages (from pyannote.core) (3.10.0.2)\n"
          ]
        }
      ]
    },
    {
      "cell_type": "code",
      "metadata": {
        "colab": {
          "base_uri": "https://localhost:8080/",
          "height": 510,
          "referenced_widgets": [
            "90af4d5e818e405db3bee4122dcfb5ce",
            "df3bb1c87ed54dcc84e3ecbd4b61e660",
            "67989a99be88477c832d7dc342c312b7",
            "18021ef2096f4f4586ec1a8358d1fab8",
            "f487ff910b184f499459e0146fc3b356",
            "bfe9ec40308343beb59fcf7456c9c7be",
            "a957c14b7d994f8eb3b0229008d1eaf0",
            "a1365f2c25c04411970321330317eb4f",
            "ea4a1315da0c473897f53885055d5e53",
            "4a7a091981b24757a3d74d8534647859",
            "001a58f33b0f4e00902450919293b416",
            "f27ce4129ae94be0992313650efaea0d",
            "09c9a1daea284ab8aa51909e5db69b4e",
            "735ac47f18c24d7093b94208f3f7d383",
            "964fb11c9fa8478f955dd31ae30229bd",
            "136a994721074b889b0d129c20565e8a",
            "aaad2d1457b04b119c0e804ea0e77be5",
            "96cfbeb8bb0640b18e25ea58753307e5",
            "df95c20850bb4bbf9bb64f556e930c6b",
            "207f5175a94b4ff8b7457d4cfe9d1fe9",
            "4f4a7d34c0f647b6800683407f41b6f6",
            "6aae3c90b842460e9bf5bf2d1f71ea5f",
            "d6428d6cbc9941229e8f7d7eb63a736c",
            "98e1bdf938274c0fa22aee57a601412a",
            "917a1392dae7432fb88b47618a6aad14",
            "8f2df940553a4fe08b738af5bd81443d",
            "3e692e26354a48dab4ef6c22d658f572",
            "1d0ceef66e4249c59faf806d1f025213",
            "627a0a15628841a98301e2d0a3189f06",
            "52a496bbd6f04080a6a5cf35bd110f34",
            "a14a5a97f52f420899993d4b57e656fc",
            "137e8f0bcc554f32b5a54875fa95cad3",
            "c92400cd75eb4bc59d8744ec3c8f2f12",
            "cc22966add904a648bc12b1860365cab",
            "7c39a8ad9d18464ab6b00b8e40f030ef",
            "3d648f8d670c4460a5f642d7024b6c3d",
            "b7856a8899a04c339c05406851ba64c4",
            "486fbaf971a146659767f9345bc16b2c",
            "678fab9e5bbe4712ab67accfbb97d43f",
            "b048dbca0e9a4f72bff95ce4277047c3",
            "00675aee3bd443848de2090a2f7ed8cf",
            "60c552e418c0485f947a442c9d33a91a",
            "feee4b27e25345658913403bd2d5c62c",
            "e777652b719a45668f183c2fd564dc71",
            "d1baa8707c5949a8830a07a7911ebcf2",
            "20d1f6ac97c244e089b4b57b6cc4034f",
            "47f2901522884d16b93a2982c5b411a2",
            "9332a8ad5aa243bcbcc875a73cb71a73",
            "a3f9d77a1f6b4bd2909082ba71358c49",
            "5a968a690d3d47f9a5500dcd391b108d",
            "a1c9645d4c2e4f96a8d709d7ba1ac372",
            "13081c9e7ee742a385b8af44f196d7c5",
            "f337697a7ff8462bbd0bbe18daef526f",
            "f8b33eb2d21a4aeca29b313bc29e5980",
            "9b74bc2ede444fe0881803078d7896f3"
          ]
        },
        "id": "X9y6Oe9xDSXH",
        "outputId": "1aab674c-e5b6-4829-a0dd-a73824fe9cdb"
      },
      "source": [
        "import torch\n",
        "pipeline = torch.hub.load('pyannote/pyannote-audio', 'dia_dihard')"
      ],
      "execution_count": null,
      "outputs": [
        {
          "output_type": "stream",
          "name": "stderr",
          "text": [
            "Using cache found in /root/.cache/torch/hub/pyannote_pyannote-audio_master\n"
          ]
        },
        {
          "output_type": "stream",
          "name": "stdout",
          "text": [
            "Downloading list of pretrained models and pipelines to \"/root/.pyannote/hub/pretrained.yml\".\n"
          ]
        },
        {
          "output_type": "display_data",
          "data": {
            "application/vnd.jupyter.widget-view+json": {
              "model_id": "90af4d5e818e405db3bee4122dcfb5ce",
              "version_minor": 0,
              "version_major": 2
            },
            "text/plain": [
              "  0%|          | 0.00/901 [00:00<?, ?B/s]"
            ]
          },
          "metadata": {}
        },
        {
          "output_type": "stream",
          "name": "stdout",
          "text": [
            "Downloading pretrained pipeline \"dia_dihard\" to \"/root/.pyannote/hub/pipelines/dia_dihard.zip\".\n"
          ]
        },
        {
          "output_type": "display_data",
          "data": {
            "application/vnd.jupyter.widget-view+json": {
              "model_id": "f27ce4129ae94be0992313650efaea0d",
              "version_minor": 0,
              "version_major": 2
            },
            "text/plain": [
              "  0%|          | 0.00/1.49k [00:00<?, ?B/s]"
            ]
          },
          "metadata": {}
        },
        {
          "output_type": "stream",
          "name": "stdout",
          "text": [
            "Downloading pretrained model \"sad_dihard\" to \"/root/.pyannote/hub/models/sad_dihard.zip\".\n"
          ]
        },
        {
          "output_type": "stream",
          "name": "stderr",
          "text": [
            "Using cache found in /root/.cache/torch/hub/pyannote_pyannote-audio_master\n"
          ]
        },
        {
          "output_type": "display_data",
          "data": {
            "application/vnd.jupyter.widget-view+json": {
              "model_id": "d6428d6cbc9941229e8f7d7eb63a736c",
              "version_minor": 0,
              "version_major": 2
            },
            "text/plain": [
              "  0%|          | 0.00/2.41M [00:00<?, ?B/s]"
            ]
          },
          "metadata": {}
        },
        {
          "output_type": "stream",
          "name": "stderr",
          "text": [
            "Using cache found in /root/.cache/torch/hub/pyannote_pyannote-audio_master\n"
          ]
        },
        {
          "output_type": "stream",
          "name": "stdout",
          "text": [
            "Downloading pretrained model \"scd_dihard\" to \"/root/.pyannote/hub/models/scd_dihard.zip\".\n"
          ]
        },
        {
          "output_type": "display_data",
          "data": {
            "application/vnd.jupyter.widget-view+json": {
              "model_id": "cc22966add904a648bc12b1860365cab",
              "version_minor": 0,
              "version_major": 2
            },
            "text/plain": [
              "  0%|          | 0.00/2.40M [00:00<?, ?B/s]"
            ]
          },
          "metadata": {}
        },
        {
          "output_type": "stream",
          "name": "stdout",
          "text": [
            "Downloading pretrained model \"emb_voxceleb\" to \"/root/.pyannote/hub/models/emb_voxceleb.zip\".\n"
          ]
        },
        {
          "output_type": "stream",
          "name": "stderr",
          "text": [
            "Using cache found in /root/.cache/torch/hub/pyannote_pyannote-audio_master\n"
          ]
        },
        {
          "output_type": "display_data",
          "data": {
            "application/vnd.jupyter.widget-view+json": {
              "model_id": "d1baa8707c5949a8830a07a7911ebcf2",
              "version_minor": 0,
              "version_major": 2
            },
            "text/plain": [
              "  0%|          | 0.00/16.3M [00:00<?, ?B/s]"
            ]
          },
          "metadata": {}
        },
        {
          "output_type": "stream",
          "name": "stderr",
          "text": [
            "/usr/local/lib/python3.7/dist-packages/pyannote/audio/embedding/approaches/arcface_loss.py:170: FutureWarning:\n",
            "\n",
            "The 's' parameter is deprecated in favor of 'scale', and will be removed in a future release\n",
            "\n",
            "/usr/local/lib/python3.7/dist-packages/pyannote/audio/features/pretrained.py:156: UserWarning:\n",
            "\n",
            "Model was trained with 4s chunks and is applied on 2s chunks. This might lead to sub-optimal results.\n",
            "\n",
            "Using cache found in /root/.cache/torch/hub/pyannote_pyannote-audio_master\n"
          ]
        }
      ]
    },
    {
      "cell_type": "code",
      "metadata": {
        "id": "efULS5MEDXWc"
      },
      "source": [
        "from pyannote.database import get_protocol\n",
        "from pyannote.database import FileFinder\n",
        "preprocessors = {'audio': FileFinder()}\n",
        "protocol = get_protocol('AMI.SpeakerDiarization.MixHeadset',\n",
        "                        preprocessors=preprocessors)\n",
        "test_file = next(protocol.test())"
      ],
      "execution_count": null,
      "outputs": []
    },
    {
      "cell_type": "code",
      "metadata": {
        "id": "LrebCibNDwMM"
      },
      "source": [
        "test_file = {'uri': 'filename', 'audio': '/content/extract.wav'}"
      ],
      "execution_count": null,
      "outputs": []
    },
    {
      "cell_type": "code",
      "metadata": {
        "id": "apu8-4rxF2ml"
      },
      "source": [
        "diarization = pipeline(test_file)"
      ],
      "execution_count": null,
      "outputs": []
    },
    {
      "cell_type": "code",
      "metadata": {
        "colab": {
          "base_uri": "https://localhost:8080/",
          "height": 209
        },
        "id": "hidADTw_F49Y",
        "outputId": "1087400d-ade6-4909-c3d5-49fb23e3cfe9"
      },
      "source": [
        "diarization"
      ],
      "execution_count": null,
      "outputs": [
        {
          "output_type": "execute_result",
          "data": {
            "image/png": "[encoded data removed]",
            "text/plain": [
              "<pyannote.core.annotation.Annotation at 0x7f03700c7f50>"
            ]
          },
          "metadata": {},
          "execution_count": 104
        }
      ]
    },
    {
      "cell_type": "code",
      "metadata": {
        "colab": {
          "base_uri": "https://localhost:8080/",
          "height": 209
        },
        "id": "gjOc7J1qRhXt",
        "outputId": "50eb9288-de4c-4c55-b71b-962206a8d99a"
      },
      "source": [
        "reference"
      ],
      "execution_count": null,
      "outputs": [
        {
          "output_type": "execute_result",
          "data": {
            "image/png": "[encoded data removed]",
            "text/plain": [
              "<pyannote.core.annotation.Annotation at 0x7f037050b190>"
            ]
          },
          "metadata": {},
          "execution_count": 109
        }
      ]
    },
    {
      "cell_type": "code",
      "metadata": {
        "id": "PvUpUdf7Kmhy"
      },
      "source": [
        ""
      ],
      "execution_count": null,
      "outputs": []
    },
    {
      "cell_type": "code",
      "metadata": {
        "id": "Z_nQrcQ0Kp-2"
      },
      "source": [
        ""
      ],
      "execution_count": null,
      "outputs": []
    },
    {
      "cell_type": "code",
      "metadata": {
        "id": "kLhKukimK0Dv"
      },
      "source": [
        ""
      ],
      "execution_count": null,
      "outputs": []
    },
    {
      "cell_type": "code",
      "metadata": {
        "id": "5OwHbktEK6uT"
      },
      "source": [
        ""
      ],
      "execution_count": null,
      "outputs": []
    },
    {
      "cell_type": "code",
      "metadata": {
        "id": "yufa8ROgK7sH"
      },
      "source": [
        "\n",
        "\n",
        "\n",
        "\n"
      ],
      "execution_count": null,
      "outputs": []
    },
    {
      "cell_type": "code",
      "metadata": {
        "id": "7GBQ8NqhLF0_"
      },
      "source": [
        ""
      ],
      "execution_count": null,
      "outputs": []
    }
  ]
}